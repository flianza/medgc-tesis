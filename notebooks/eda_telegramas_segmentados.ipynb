{
 "cells": [
  {
   "cell_type": "code",
   "execution_count": 1,
   "id": "1bb781db",
   "metadata": {},
   "outputs": [],
   "source": [
    "from PIL import Image\n",
    "import cv2 \n",
    "from IPython.display import display\n",
    "import matplotlib.pyplot as plt\n",
    "import pandas as pd\n",
    "import numpy as np\n",
    "from typing import Iterable\n",
    "\n",
    "def imgshow(img) -> None:\n",
    "    display(Image.fromarray(cv2.cvtColor(img, cv2.COLOR_BGR2RGB)))"
   ]
  },
  {
   "cell_type": "code",
   "execution_count": 4,
   "id": "f942f91b",
   "metadata": {},
   "outputs": [
    {
     "name": "stdout",
     "output_type": "stream",
     "text": [
      "2022-05-16 19:43:47,581 - root - INFO - Updated path to Kedro project: C:\\Users\\Lianz\\Documents\\medgc-tesis\n",
      "2022-05-16 19:43:48,163 - kedro.framework.session.store - INFO - `read()` not implemented for `BaseSessionStore`. Assuming empty store.\n"
     ]
    },
    {
     "name": "stderr",
     "output_type": "stream",
     "text": [
      "d:\\Programs\\Anaconda3\\envs\\medgc-tesis-v2\\lib\\site-packages\\tqdm\\auto.py:22: TqdmWarning: IProgress not found. Please update jupyter and ipywidgets. See https://ipywidgets.readthedocs.io/en/stable/user_install.html\n",
      "  from .autonotebook import tqdm as notebook_tqdm\n",
      "d:\\Programs\\Anaconda3\\envs\\medgc-tesis-v2\\lib\\site-packages\\torchvision\\transforms\\functional_pil.py:228: DeprecationWarning: BILINEAR is deprecated and will be removed in Pillow 10 (2023-07-01). Use Resampling.BILINEAR instead.\n",
      "  interpolation: int = Image.BILINEAR,\n",
      "d:\\Programs\\Anaconda3\\envs\\medgc-tesis-v2\\lib\\site-packages\\torchvision\\transforms\\functional_pil.py:295: DeprecationWarning: NEAREST is deprecated and will be removed in Pillow 10 (2023-07-01). Use Resampling.NEAREST or Dither.NONE instead.\n",
      "  interpolation: int = Image.NEAREST,\n",
      "d:\\Programs\\Anaconda3\\envs\\medgc-tesis-v2\\lib\\site-packages\\torchvision\\transforms\\functional_pil.py:311: DeprecationWarning: NEAREST is deprecated and will be removed in Pillow 10 (2023-07-01). Use Resampling.NEAREST or Dither.NONE instead.\n",
      "  interpolation: int = Image.NEAREST,\n",
      "d:\\Programs\\Anaconda3\\envs\\medgc-tesis-v2\\lib\\site-packages\\torchvision\\transforms\\functional_pil.py:328: DeprecationWarning: BICUBIC is deprecated and will be removed in Pillow 10 (2023-07-01). Use Resampling.BICUBIC instead.\n",
      "  interpolation: int = Image.BICUBIC,\n"
     ]
    },
    {
     "name": "stdout",
     "output_type": "stream",
     "text": [
      "2022-05-16 19:43:51,280 - root - INFO - ** Kedro project MEDGC Tesis\n",
      "2022-05-16 19:43:51,282 - root - INFO - Defined global variable `context`, `session`, `catalog` and `pipelines`\n"
     ]
    }
   ],
   "source": [
    "%load_ext kedro.extras.extensions.ipython"
   ]
  },
  {
   "cell_type": "code",
   "execution_count": 5,
   "id": "b15f5d9e",
   "metadata": {},
   "outputs": [
    {
     "name": "stdout",
     "output_type": "stream",
     "text": [
      "2022-05-16 19:43:53,056 - kedro.io.data_catalog - INFO - Loading data from `telegramas_segmentados` (PickleDataSet)...\n"
     ]
    }
   ],
   "source": [
    "telegramas = catalog.load('telegramas_segmentados')"
   ]
  },
  {
   "cell_type": "code",
   "execution_count": 6,
   "id": "a33140de",
   "metadata": {},
   "outputs": [
    {
     "data": {
      "text/plain": [
       "8012"
      ]
     },
     "execution_count": 6,
     "metadata": {},
     "output_type": "execute_result"
    }
   ],
   "source": [
    "len(telegramas)"
   ]
  },
  {
   "cell_type": "markdown",
   "id": "a801da35",
   "metadata": {},
   "source": [
    "Originalmente hay 8188 telegramas, pero fallaron algunos en la segmentacion de los digitos"
   ]
  },
  {
   "cell_type": "code",
   "execution_count": 7,
   "id": "7ae14abe",
   "metadata": {},
   "outputs": [
    {
     "data": {
      "text/plain": [
       "0.978505129457743"
      ]
     },
     "execution_count": 7,
     "metadata": {},
     "output_type": "execute_result"
    }
   ],
   "source": [
    "len(telegramas) / 8188"
   ]
  },
  {
   "cell_type": "markdown",
   "id": "6eb60631",
   "metadata": {},
   "source": [
    "Aun asi, tenemos el 98% de los telegramas.\n",
    "\n",
    "Ahora tenemos que:\n",
    "- chequear que no tengamos 2 o mas digitos segmentados como uno\n",
    "- detectar los \"-\" que a veces se usa para denotar que no hay votos\n",
    "- chequear que para todos los telegramas, tengamos 9 filas (los partidos politicos que hay en santa fe)"
   ]
  },
  {
   "cell_type": "code",
   "execution_count": 8,
   "id": "6746ee5c",
   "metadata": {},
   "outputs": [],
   "source": [
    "digitos = []\n",
    "for telegrama in telegramas:\n",
    "    votos = telegrama['votos']\n",
    "    for voto in votos:\n",
    "        digitos += [digito for digito in voto['diputados']]\n",
    "        digitos += [digito for digito in voto['senadores']]\n",
    "digitos = np.array(digitos, dtype=object)"
   ]
  },
  {
   "cell_type": "code",
   "execution_count": 9,
   "id": "d633cb4d",
   "metadata": {},
   "outputs": [
    {
     "data": {
      "text/plain": [
       "41.44370943584623"
      ]
     },
     "execution_count": 9,
     "metadata": {},
     "output_type": "execute_result"
    }
   ],
   "source": [
    "len(digitos) / len(telegramas)"
   ]
  },
  {
   "cell_type": "markdown",
   "id": "534f7dee",
   "metadata": {},
   "source": [
    "Tenemos aprox 40 digitos por telegrama."
   ]
  },
  {
   "cell_type": "code",
   "execution_count": 10,
   "id": "adde8c9d",
   "metadata": {},
   "outputs": [
    {
     "data": {
      "text/plain": [
       "(35, 35)"
      ]
     },
     "execution_count": 10,
     "metadata": {},
     "output_type": "execute_result"
    }
   ],
   "source": [
    "digitos[0].shape"
   ]
  },
  {
   "cell_type": "markdown",
   "id": "c40230e9",
   "metadata": {},
   "source": [
    "Los digitos son cuadrados. Vamos a estimar la distribucion del shape para ver si encontramos algun digito raro"
   ]
  },
  {
   "cell_type": "code",
   "execution_count": 11,
   "id": "ccb706b4",
   "metadata": {},
   "outputs": [],
   "source": [
    "id_telegrama = []\n",
    "tipo = []\n",
    "digitos = []\n",
    "partido = []\n",
    "partidos = {\n",
    "    0: 'unite',\n",
    "    1: 'frente amplio progresista',\n",
    "    2: 'fit',\n",
    "    3: 'juntos',\n",
    "    4: 'primero santa fe',\n",
    "    5: 'somos futuro',\n",
    "    6: 'podemos',\n",
    "    7: 'soberania popular',\n",
    "    8: 'frente de todos'\n",
    "}\n",
    "\n",
    "for telegrama in telegramas:\n",
    "    for idx, votos in enumerate(telegrama['votos']):\n",
    "        id_telegrama.append(telegrama['nombre'])\n",
    "        tipo.append('senadores')\n",
    "        partido.append(partidos.get(idx, None))\n",
    "        digitos.append(votos['senadores'])\n",
    "        \n",
    "        id_telegrama.append(telegrama['nombre'])\n",
    "        tipo.append('diputados')\n",
    "        partido.append(partidos.get(idx, None))\n",
    "        digitos.append(votos['diputados'])\n",
    "        \n",
    "df = pd.DataFrame({\n",
    "    'id_telegrama': id_telegrama,\n",
    "    'partido': partido,\n",
    "    'tipo': tipo,\n",
    "    'digitos': digitos\n",
    "})"
   ]
  },
  {
   "cell_type": "code",
   "execution_count": 12,
   "id": "593f04e4",
   "metadata": {
    "scrolled": true
   },
   "outputs": [
    {
     "data": {
      "text/html": [
       "<div>\n",
       "<style scoped>\n",
       "    .dataframe tbody tr th:only-of-type {\n",
       "        vertical-align: middle;\n",
       "    }\n",
       "\n",
       "    .dataframe tbody tr th {\n",
       "        vertical-align: top;\n",
       "    }\n",
       "\n",
       "    .dataframe thead th {\n",
       "        text-align: right;\n",
       "    }\n",
       "</style>\n",
       "<table border=\"1\" class=\"dataframe\">\n",
       "  <thead>\n",
       "    <tr style=\"text-align: right;\">\n",
       "      <th></th>\n",
       "      <th>id_telegrama</th>\n",
       "      <th>partido</th>\n",
       "      <th>tipo</th>\n",
       "      <th>digitos</th>\n",
       "    </tr>\n",
       "  </thead>\n",
       "  <tbody>\n",
       "    <tr>\n",
       "      <th>0</th>\n",
       "      <td>2100100001X</td>\n",
       "      <td>unite</td>\n",
       "      <td>senadores</td>\n",
       "      <td>[[[255, 255, 255, 255, 255, 255, 242, 167, 255...</td>\n",
       "    </tr>\n",
       "    <tr>\n",
       "      <th>1</th>\n",
       "      <td>2100100001X</td>\n",
       "      <td>unite</td>\n",
       "      <td>diputados</td>\n",
       "      <td>[[[255, 255, 255, 255, 255, 255, 255, 255, 255...</td>\n",
       "    </tr>\n",
       "    <tr>\n",
       "      <th>2</th>\n",
       "      <td>2100100001X</td>\n",
       "      <td>frente amplio progresista</td>\n",
       "      <td>senadores</td>\n",
       "      <td>[[[255, 255, 255, 255, 255, 255, 255, 255, 255...</td>\n",
       "    </tr>\n",
       "    <tr>\n",
       "      <th>3</th>\n",
       "      <td>2100100001X</td>\n",
       "      <td>frente amplio progresista</td>\n",
       "      <td>diputados</td>\n",
       "      <td>[[[255, 255, 255, 255, 255, 255, 255, 255, 255...</td>\n",
       "    </tr>\n",
       "    <tr>\n",
       "      <th>4</th>\n",
       "      <td>2100100001X</td>\n",
       "      <td>fit</td>\n",
       "      <td>senadores</td>\n",
       "      <td>[[[255, 255, 255, 255, 255, 255, 255, 255, 255...</td>\n",
       "    </tr>\n",
       "  </tbody>\n",
       "</table>\n",
       "</div>"
      ],
      "text/plain": [
       "  id_telegrama                    partido       tipo  \\\n",
       "0  2100100001X                      unite  senadores   \n",
       "1  2100100001X                      unite  diputados   \n",
       "2  2100100001X  frente amplio progresista  senadores   \n",
       "3  2100100001X  frente amplio progresista  diputados   \n",
       "4  2100100001X                        fit  senadores   \n",
       "\n",
       "                                             digitos  \n",
       "0  [[[255, 255, 255, 255, 255, 255, 242, 167, 255...  \n",
       "1  [[[255, 255, 255, 255, 255, 255, 255, 255, 255...  \n",
       "2  [[[255, 255, 255, 255, 255, 255, 255, 255, 255...  \n",
       "3  [[[255, 255, 255, 255, 255, 255, 255, 255, 255...  \n",
       "4  [[[255, 255, 255, 255, 255, 255, 255, 255, 255...  "
      ]
     },
     "execution_count": 12,
     "metadata": {},
     "output_type": "execute_result"
    }
   ],
   "source": [
    "df.head()"
   ]
  },
  {
   "cell_type": "code",
   "execution_count": 13,
   "id": "c575fed1",
   "metadata": {},
   "outputs": [
    {
     "data": {
      "text/plain": [
       "count          144126\n",
       "unique           8012\n",
       "top       2100100001X\n",
       "freq               18\n",
       "Name: id_telegrama, dtype: object"
      ]
     },
     "execution_count": 13,
     "metadata": {},
     "output_type": "execute_result"
    }
   ],
   "source": [
    "df.id_telegrama.describe()"
   ]
  },
  {
   "cell_type": "code",
   "execution_count": 14,
   "id": "db02446f",
   "metadata": {
    "scrolled": true
   },
   "outputs": [
    {
     "data": {
      "text/plain": [
       "unite                        16024\n",
       "frente amplio progresista    16024\n",
       "fit                          16024\n",
       "juntos                       16024\n",
       "primero santa fe             16024\n",
       "somos futuro                 16024\n",
       "podemos                      16024\n",
       "soberania popular            16024\n",
       "frente de todos              15934\n",
       "Name: partido, dtype: int64"
      ]
     },
     "execution_count": 14,
     "metadata": {},
     "output_type": "execute_result"
    }
   ],
   "source": [
    "df.partido.value_counts()"
   ]
  },
  {
   "cell_type": "markdown",
   "id": "3da9da07",
   "metadata": {},
   "source": [
    "Ya vemos que hay algo mal porque el frente de todos (el ultimo) no tiene la misma cantidad de votos que el resto."
   ]
  },
  {
   "cell_type": "code",
   "execution_count": 15,
   "id": "799fb420",
   "metadata": {},
   "outputs": [],
   "source": [
    "def proporcion_pixeles_blancos(digito: np.ndarray) -> float:\n",
    "    return np.sum(digito) / (digito.shape[0] ** 2 * 255)"
   ]
  },
  {
   "cell_type": "code",
   "execution_count": 16,
   "id": "14de4bc9",
   "metadata": {},
   "outputs": [],
   "source": [
    "def calcular_indicadores_digitos(df: pd.DataFrame) -> pd.DataFrame:\n",
    "    df['cant_digitos'] = df.digitos.apply(lambda digitos: len(digitos))\n",
    "    df['min_size_digitos'] = df.digitos.apply(lambda digitos: np.min([digito.shape[0] for digito in digitos] + [np.inf]))\n",
    "    df['max_size_digitos'] = df.digitos.apply(lambda digitos: np.max([digito.shape[0] for digito in digitos] + [-np.inf]))\n",
    "    df['min_prop_blanco_digitos'] = df.digitos.apply(lambda digitos: np.min([proporcion_pixeles_blancos(digito) for digito in digitos] + [np.inf]))\n",
    "    df['max_prop_blanco_digitos'] = df.digitos.apply(lambda digitos: np.max([proporcion_pixeles_blancos(digito) for digito in digitos] + [-np.inf]))\n",
    "\n",
    "    return df.replace([np.inf, -np.inf], np.nan)"
   ]
  },
  {
   "cell_type": "code",
   "execution_count": 17,
   "id": "ed986f06",
   "metadata": {},
   "outputs": [],
   "source": [
    "df = calcular_indicadores_digitos(df)"
   ]
  },
  {
   "cell_type": "code",
   "execution_count": 18,
   "id": "0d003ce4",
   "metadata": {
    "scrolled": false
   },
   "outputs": [
    {
     "data": {
      "text/html": [
       "<div>\n",
       "<style scoped>\n",
       "    .dataframe tbody tr th:only-of-type {\n",
       "        vertical-align: middle;\n",
       "    }\n",
       "\n",
       "    .dataframe tbody tr th {\n",
       "        vertical-align: top;\n",
       "    }\n",
       "\n",
       "    .dataframe thead th {\n",
       "        text-align: right;\n",
       "    }\n",
       "</style>\n",
       "<table border=\"1\" class=\"dataframe\">\n",
       "  <thead>\n",
       "    <tr style=\"text-align: right;\">\n",
       "      <th></th>\n",
       "      <th>id_telegrama</th>\n",
       "      <th>partido</th>\n",
       "      <th>tipo</th>\n",
       "      <th>digitos</th>\n",
       "      <th>cant_digitos</th>\n",
       "      <th>min_size_digitos</th>\n",
       "      <th>max_size_digitos</th>\n",
       "      <th>min_prop_blanco_digitos</th>\n",
       "      <th>max_prop_blanco_digitos</th>\n",
       "    </tr>\n",
       "  </thead>\n",
       "  <tbody>\n",
       "    <tr>\n",
       "      <th>0</th>\n",
       "      <td>2100100001X</td>\n",
       "      <td>unite</td>\n",
       "      <td>senadores</td>\n",
       "      <td>[[[255, 255, 255, 255, 255, 255, 242, 167, 255...</td>\n",
       "      <td>1</td>\n",
       "      <td>36.0</td>\n",
       "      <td>36.0</td>\n",
       "      <td>0.823230</td>\n",
       "      <td>0.823230</td>\n",
       "    </tr>\n",
       "    <tr>\n",
       "      <th>1</th>\n",
       "      <td>2100100001X</td>\n",
       "      <td>unite</td>\n",
       "      <td>diputados</td>\n",
       "      <td>[[[255, 255, 255, 255, 255, 255, 255, 255, 255...</td>\n",
       "      <td>1</td>\n",
       "      <td>35.0</td>\n",
       "      <td>35.0</td>\n",
       "      <td>0.744983</td>\n",
       "      <td>0.744983</td>\n",
       "    </tr>\n",
       "    <tr>\n",
       "      <th>2</th>\n",
       "      <td>2100100001X</td>\n",
       "      <td>frente amplio progresista</td>\n",
       "      <td>senadores</td>\n",
       "      <td>[[[255, 255, 255, 255, 255, 255, 255, 255, 255...</td>\n",
       "      <td>1</td>\n",
       "      <td>34.0</td>\n",
       "      <td>34.0</td>\n",
       "      <td>0.764645</td>\n",
       "      <td>0.764645</td>\n",
       "    </tr>\n",
       "    <tr>\n",
       "      <th>3</th>\n",
       "      <td>2100100001X</td>\n",
       "      <td>frente amplio progresista</td>\n",
       "      <td>diputados</td>\n",
       "      <td>[[[255, 255, 255, 255, 255, 255, 255, 255, 255...</td>\n",
       "      <td>1</td>\n",
       "      <td>31.0</td>\n",
       "      <td>31.0</td>\n",
       "      <td>0.700590</td>\n",
       "      <td>0.700590</td>\n",
       "    </tr>\n",
       "    <tr>\n",
       "      <th>4</th>\n",
       "      <td>2100100001X</td>\n",
       "      <td>fit</td>\n",
       "      <td>senadores</td>\n",
       "      <td>[[[255, 255, 255, 255, 255, 255, 255, 255, 255...</td>\n",
       "      <td>1</td>\n",
       "      <td>39.0</td>\n",
       "      <td>39.0</td>\n",
       "      <td>0.700772</td>\n",
       "      <td>0.700772</td>\n",
       "    </tr>\n",
       "  </tbody>\n",
       "</table>\n",
       "</div>"
      ],
      "text/plain": [
       "  id_telegrama                    partido       tipo  \\\n",
       "0  2100100001X                      unite  senadores   \n",
       "1  2100100001X                      unite  diputados   \n",
       "2  2100100001X  frente amplio progresista  senadores   \n",
       "3  2100100001X  frente amplio progresista  diputados   \n",
       "4  2100100001X                        fit  senadores   \n",
       "\n",
       "                                             digitos  cant_digitos  \\\n",
       "0  [[[255, 255, 255, 255, 255, 255, 242, 167, 255...             1   \n",
       "1  [[[255, 255, 255, 255, 255, 255, 255, 255, 255...             1   \n",
       "2  [[[255, 255, 255, 255, 255, 255, 255, 255, 255...             1   \n",
       "3  [[[255, 255, 255, 255, 255, 255, 255, 255, 255...             1   \n",
       "4  [[[255, 255, 255, 255, 255, 255, 255, 255, 255...             1   \n",
       "\n",
       "   min_size_digitos  max_size_digitos  min_prop_blanco_digitos  \\\n",
       "0              36.0              36.0                 0.823230   \n",
       "1              35.0              35.0                 0.744983   \n",
       "2              34.0              34.0                 0.764645   \n",
       "3              31.0              31.0                 0.700590   \n",
       "4              39.0              39.0                 0.700772   \n",
       "\n",
       "   max_prop_blanco_digitos  \n",
       "0                 0.823230  \n",
       "1                 0.744983  \n",
       "2                 0.764645  \n",
       "3                 0.700590  \n",
       "4                 0.700772  "
      ]
     },
     "execution_count": 18,
     "metadata": {},
     "output_type": "execute_result"
    }
   ],
   "source": [
    "df.head()"
   ]
  },
  {
   "cell_type": "code",
   "execution_count": 19,
   "id": "af6b8ae1",
   "metadata": {},
   "outputs": [],
   "source": [
    "def plot_dos_histogramas(df: pd.DataFrame, col1: str, col2: str) -> None:\n",
    "    fig, ax = plt.subplots(ncols=2, figsize=(15, 5))\n",
    "    df[col1].hist(bins=100, ax=ax[0])\n",
    "    ax[0].set_title(col1)\n",
    "\n",
    "    df[col2].hist(bins=100, ax=ax[1])\n",
    "    ax[1].set_title(col2)\n",
    "    plt.show()"
   ]
  },
  {
   "cell_type": "code",
   "execution_count": 20,
   "id": "e4867f33",
   "metadata": {},
   "outputs": [
    {
     "data": {
      "image/png": "[encoded data removed]",
      "text/plain": [
       "<Figure size 1080x360 with 2 Axes>"
      ]
     },
     "metadata": {
      "needs_background": "light"
     },
     "output_type": "display_data"
    }
   ],
   "source": [
    "plot_dos_histogramas(df, 'min_prop_blanco_digitos', 'max_prop_blanco_digitos')"
   ]
  },
  {
   "cell_type": "code",
   "execution_count": 21,
   "id": "83a18834",
   "metadata": {
    "scrolled": true
   },
   "outputs": [
    {
     "data": {
      "text/html": [
       "<div>\n",
       "<style scoped>\n",
       "    .dataframe tbody tr th:only-of-type {\n",
       "        vertical-align: middle;\n",
       "    }\n",
       "\n",
       "    .dataframe tbody tr th {\n",
       "        vertical-align: top;\n",
       "    }\n",
       "\n",
       "    .dataframe thead th {\n",
       "        text-align: right;\n",
       "    }\n",
       "</style>\n",
       "<table border=\"1\" class=\"dataframe\">\n",
       "  <thead>\n",
       "    <tr style=\"text-align: right;\">\n",
       "      <th></th>\n",
       "      <th>count</th>\n",
       "      <th>mean</th>\n",
       "      <th>std</th>\n",
       "      <th>min</th>\n",
       "      <th>25%</th>\n",
       "      <th>50%</th>\n",
       "      <th>75%</th>\n",
       "      <th>max</th>\n",
       "    </tr>\n",
       "  </thead>\n",
       "  <tbody>\n",
       "    <tr>\n",
       "      <th>cant_digitos</th>\n",
       "      <td>144126.0</td>\n",
       "      <td>2.303866</td>\n",
       "      <td>0.875680</td>\n",
       "      <td>0.000000</td>\n",
       "      <td>2.000000</td>\n",
       "      <td>3.000000</td>\n",
       "      <td>3.000000</td>\n",
       "      <td>14.000000</td>\n",
       "    </tr>\n",
       "    <tr>\n",
       "      <th>min_size_digitos</th>\n",
       "      <td>143012.0</td>\n",
       "      <td>38.617144</td>\n",
       "      <td>11.239762</td>\n",
       "      <td>7.000000</td>\n",
       "      <td>32.000000</td>\n",
       "      <td>37.000000</td>\n",
       "      <td>43.000000</td>\n",
       "      <td>621.000000</td>\n",
       "    </tr>\n",
       "    <tr>\n",
       "      <th>max_size_digitos</th>\n",
       "      <td>143012.0</td>\n",
       "      <td>47.191753</td>\n",
       "      <td>20.532765</td>\n",
       "      <td>13.000000</td>\n",
       "      <td>38.000000</td>\n",
       "      <td>44.000000</td>\n",
       "      <td>50.000000</td>\n",
       "      <td>621.000000</td>\n",
       "    </tr>\n",
       "    <tr>\n",
       "      <th>min_prop_blanco_digitos</th>\n",
       "      <td>143012.0</td>\n",
       "      <td>0.816377</td>\n",
       "      <td>0.057959</td>\n",
       "      <td>0.102281</td>\n",
       "      <td>0.782931</td>\n",
       "      <td>0.820007</td>\n",
       "      <td>0.855432</td>\n",
       "      <td>0.993352</td>\n",
       "    </tr>\n",
       "    <tr>\n",
       "      <th>max_prop_blanco_digitos</th>\n",
       "      <td>143012.0</td>\n",
       "      <td>0.865434</td>\n",
       "      <td>0.048055</td>\n",
       "      <td>0.267430</td>\n",
       "      <td>0.837609</td>\n",
       "      <td>0.869112</td>\n",
       "      <td>0.896400</td>\n",
       "      <td>0.995205</td>\n",
       "    </tr>\n",
       "  </tbody>\n",
       "</table>\n",
       "</div>"
      ],
      "text/plain": [
       "                            count       mean        std        min        25%  \\\n",
       "cant_digitos             144126.0   2.303866   0.875680   0.000000   2.000000   \n",
       "min_size_digitos         143012.0  38.617144  11.239762   7.000000  32.000000   \n",
       "max_size_digitos         143012.0  47.191753  20.532765  13.000000  38.000000   \n",
       "min_prop_blanco_digitos  143012.0   0.816377   0.057959   0.102281   0.782931   \n",
       "max_prop_blanco_digitos  143012.0   0.865434   0.048055   0.267430   0.837609   \n",
       "\n",
       "                               50%        75%         max  \n",
       "cant_digitos              3.000000   3.000000   14.000000  \n",
       "min_size_digitos         37.000000  43.000000  621.000000  \n",
       "max_size_digitos         44.000000  50.000000  621.000000  \n",
       "min_prop_blanco_digitos   0.820007   0.855432    0.993352  \n",
       "max_prop_blanco_digitos   0.869112   0.896400    0.995205  "
      ]
     },
     "execution_count": 21,
     "metadata": {},
     "output_type": "execute_result"
    }
   ],
   "source": [
    "df.describe().T"
   ]
  },
  {
   "cell_type": "markdown",
   "id": "44b010a0",
   "metadata": {},
   "source": [
    "Me hacen ruido los valores 0.99 en la proporcion de digitos blancos."
   ]
  },
  {
   "cell_type": "code",
   "execution_count": 22,
   "id": "bb38245a",
   "metadata": {},
   "outputs": [],
   "source": [
    "UMBRAL_PROP_BLANCO_MAXIMO = 0.95"
   ]
  },
  {
   "cell_type": "code",
   "execution_count": 23,
   "id": "eaa40a3c",
   "metadata": {},
   "outputs": [
    {
     "data": {
      "text/html": [
       "<div>\n",
       "<style scoped>\n",
       "    .dataframe tbody tr th:only-of-type {\n",
       "        vertical-align: middle;\n",
       "    }\n",
       "\n",
       "    .dataframe tbody tr th {\n",
       "        vertical-align: top;\n",
       "    }\n",
       "\n",
       "    .dataframe thead th {\n",
       "        text-align: right;\n",
       "    }\n",
       "</style>\n",
       "<table border=\"1\" class=\"dataframe\">\n",
       "  <thead>\n",
       "    <tr style=\"text-align: right;\">\n",
       "      <th></th>\n",
       "      <th>count</th>\n",
       "      <th>mean</th>\n",
       "      <th>std</th>\n",
       "      <th>min</th>\n",
       "      <th>25%</th>\n",
       "      <th>50%</th>\n",
       "      <th>75%</th>\n",
       "      <th>max</th>\n",
       "    </tr>\n",
       "  </thead>\n",
       "  <tbody>\n",
       "    <tr>\n",
       "      <th>cant_digitos</th>\n",
       "      <td>3672.0</td>\n",
       "      <td>2.942810</td>\n",
       "      <td>1.131504</td>\n",
       "      <td>1.000000</td>\n",
       "      <td>2.000000</td>\n",
       "      <td>3.000000</td>\n",
       "      <td>4.000000</td>\n",
       "      <td>9.000000</td>\n",
       "    </tr>\n",
       "    <tr>\n",
       "      <th>min_size_digitos</th>\n",
       "      <td>3672.0</td>\n",
       "      <td>49.382081</td>\n",
       "      <td>36.208697</td>\n",
       "      <td>18.000000</td>\n",
       "      <td>33.000000</td>\n",
       "      <td>39.000000</td>\n",
       "      <td>47.000000</td>\n",
       "      <td>621.000000</td>\n",
       "    </tr>\n",
       "    <tr>\n",
       "      <th>max_size_digitos</th>\n",
       "      <td>3672.0</td>\n",
       "      <td>138.277778</td>\n",
       "      <td>59.491472</td>\n",
       "      <td>34.000000</td>\n",
       "      <td>72.000000</td>\n",
       "      <td>145.000000</td>\n",
       "      <td>198.000000</td>\n",
       "      <td>621.000000</td>\n",
       "    </tr>\n",
       "    <tr>\n",
       "      <th>min_prop_blanco_digitos</th>\n",
       "      <td>3672.0</td>\n",
       "      <td>0.842836</td>\n",
       "      <td>0.077658</td>\n",
       "      <td>0.204837</td>\n",
       "      <td>0.793943</td>\n",
       "      <td>0.838758</td>\n",
       "      <td>0.888686</td>\n",
       "      <td>0.993352</td>\n",
       "    </tr>\n",
       "    <tr>\n",
       "      <th>max_prop_blanco_digitos</th>\n",
       "      <td>3672.0</td>\n",
       "      <td>0.979381</td>\n",
       "      <td>0.014980</td>\n",
       "      <td>0.950002</td>\n",
       "      <td>0.965537</td>\n",
       "      <td>0.988123</td>\n",
       "      <td>0.991638</td>\n",
       "      <td>0.995205</td>\n",
       "    </tr>\n",
       "  </tbody>\n",
       "</table>\n",
       "</div>"
      ],
      "text/plain": [
       "                          count        mean        std        min        25%  \\\n",
       "cant_digitos             3672.0    2.942810   1.131504   1.000000   2.000000   \n",
       "min_size_digitos         3672.0   49.382081  36.208697  18.000000  33.000000   \n",
       "max_size_digitos         3672.0  138.277778  59.491472  34.000000  72.000000   \n",
       "min_prop_blanco_digitos  3672.0    0.842836   0.077658   0.204837   0.793943   \n",
       "max_prop_blanco_digitos  3672.0    0.979381   0.014980   0.950002   0.965537   \n",
       "\n",
       "                                50%         75%         max  \n",
       "cant_digitos               3.000000    4.000000    9.000000  \n",
       "min_size_digitos          39.000000   47.000000  621.000000  \n",
       "max_size_digitos         145.000000  198.000000  621.000000  \n",
       "min_prop_blanco_digitos    0.838758    0.888686    0.993352  \n",
       "max_prop_blanco_digitos    0.988123    0.991638    0.995205  "
      ]
     },
     "execution_count": 23,
     "metadata": {},
     "output_type": "execute_result"
    }
   ],
   "source": [
    "df.query(f\"max_prop_blanco_digitos > {UMBRAL_PROP_BLANCO_MAXIMO}\").describe().T"
   ]
  },
  {
   "cell_type": "code",
   "execution_count": 24,
   "id": "36e72a41",
   "metadata": {},
   "outputs": [
    {
     "data": {
      "image/png": "[encoded data removed]",
      "text/plain": [
       "<Figure size 432x288 with 1 Axes>"
      ]
     },
     "metadata": {
      "needs_background": "light"
     },
     "output_type": "display_data"
    }
   ],
   "source": [
    "df.query(f\"max_prop_blanco_digitos > {UMBRAL_PROP_BLANCO_MAXIMO}\").max_prop_blanco_digitos.hist(bins=100)\n",
    "plt.show()"
   ]
  },
  {
   "cell_type": "code",
   "execution_count": 25,
   "id": "4571cb83",
   "metadata": {},
   "outputs": [],
   "source": [
    "def plot_digitos(df: pd.DataFrame, idxs: Iterable[int]) -> None:\n",
    "    for idx in idxs:\n",
    "        registro = df.loc[idx]\n",
    "        print(f\"===============Index: {idx}===============\")\n",
    "        print(f\"Archivo: {registro.id_telegrama}\")\n",
    "        print(f\"Partido: {registro.partido}\")\n",
    "        print(f\"Tipo: {registro.tipo}\")\n",
    "        print(\"\\n\")\n",
    "        for digito in registro.digitos:\n",
    "            print(f\"Proporcion blanco: {proporcion_pixeles_blancos(digito)}\")\n",
    "            imgshow(digito)"
   ]
  },
  {
   "cell_type": "code",
   "execution_count": 26,
   "id": "f42c5788",
   "metadata": {},
   "outputs": [
    {
     "name": "stdout",
     "output_type": "stream",
     "text": [
      "===============Index: 197===============\n",
      "Archivo: 2100100011X\n",
      "Partido: frente de todos\n",
      "Tipo: diputados\n",
      "\n",
      "\n",
      "Proporcion blanco: 0.7746760295813827\n"
     ]
    },
    {
     "data": {
      "image/png": "[encoded data removed]",
      "text/plain": [
       "<PIL.Image.Image image mode=RGB size=34x34>"
      ]
     },
     "metadata": {},
     "output_type": "display_data"
    },
    {
     "name": "stdout",
     "output_type": "stream",
     "text": [
      "Proporcion blanco: 0.9917008122817182\n"
     ]
    },
    {
     "data": {
      "image/png": "[encoded data removed]",
      "text/plain": [
       "<PIL.Image.Image image mode=RGB size=159x159>"
      ]
     },
     "metadata": {},
     "output_type": "display_data"
    },
    {
     "name": "stdout",
     "output_type": "stream",
     "text": [
      "Proporcion blanco: 0.879360929557008\n"
     ]
    },
    {
     "data": {
      "image/png": "[encoded data removed]",
      "text/plain": [
       "<PIL.Image.Image image mode=RGB size=45x45>"
      ]
     },
     "metadata": {},
     "output_type": "display_data"
    },
    {
     "name": "stdout",
     "output_type": "stream",
     "text": [
      "Proporcion blanco: 0.8525583373845406\n"
     ]
    },
    {
     "data": {
      "image/png": "[encoded data removed]",
      "text/plain": [
       "<PIL.Image.Image image mode=RGB size=44x44>"
      ]
     },
     "metadata": {},
     "output_type": "display_data"
    },
    {
     "name": "stdout",
     "output_type": "stream",
     "text": [
      "===============Index: 199===============\n",
      "Archivo: 2100100012X\n",
      "Partido: unite\n",
      "Tipo: diputados\n",
      "\n",
      "\n",
      "Proporcion blanco: 0.9907487333458435\n"
     ]
    },
    {
     "data": {
      "image/png": "[encoded data removed]",
      "text/plain": [
       "<PIL.Image.Image image mode=RGB size=146x146>"
      ]
     },
     "metadata": {},
     "output_type": "display_data"
    },
    {
     "name": "stdout",
     "output_type": "stream",
     "text": [
      "Proporcion blanco: 0.8519539995929167\n"
     ]
    },
    {
     "data": {
      "image/png": "[encoded data removed]",
      "text/plain": [
       "<PIL.Image.Image image mode=RGB size=34x34>"
      ]
     },
     "metadata": {},
     "output_type": "display_data"
    },
    {
     "name": "stdout",
     "output_type": "stream",
     "text": [
      "Proporcion blanco: 0.675890356142457\n"
     ]
    },
    {
     "data": {
      "image/png": "[encoded data removed]",
      "text/plain": [
       "<PIL.Image.Image image mode=RGB size=28x28>"
      ]
     },
     "metadata": {},
     "output_type": "display_data"
    },
    {
     "name": "stdout",
     "output_type": "stream",
     "text": [
      "===============Index: 343===============\n",
      "Archivo: 2100100020X\n",
      "Partido: unite\n",
      "Tipo: diputados\n",
      "\n",
      "\n",
      "Proporcion blanco: 0.9925578736420875\n"
     ]
    },
    {
     "data": {
      "image/png": "[encoded data removed]",
      "text/plain": [
       "<PIL.Image.Image image mode=RGB size=193x193>"
      ]
     },
     "metadata": {},
     "output_type": "display_data"
    },
    {
     "name": "stdout",
     "output_type": "stream",
     "text": [
      "Proporcion blanco: 0.8268467683369645\n"
     ]
    },
    {
     "data": {
      "image/png": "[encoded data removed]",
      "text/plain": [
       "<PIL.Image.Image image mode=RGB size=45x45>"
      ]
     },
     "metadata": {},
     "output_type": "display_data"
    },
    {
     "name": "stdout",
     "output_type": "stream",
     "text": [
      "===============Index: 378===============\n",
      "Archivo: 2100100022X\n",
      "Partido: unite\n",
      "Tipo: senadores\n",
      "\n",
      "\n",
      "Proporcion blanco: 0.9903233293317327\n"
     ]
    },
    {
     "data": {
      "image/png": "[encoded data removed]",
      "text/plain": [
       "<PIL.Image.Image image mode=RGB size=140x140>"
      ]
     },
     "metadata": {},
     "output_type": "display_data"
    },
    {
     "name": "stdout",
     "output_type": "stream",
     "text": [
      "Proporcion blanco: 0.9285471132897604\n"
     ]
    },
    {
     "data": {
      "image/png": "[encoded data removed]",
      "text/plain": [
       "<PIL.Image.Image image mode=RGB size=48x48>"
      ]
     },
     "metadata": {},
     "output_type": "display_data"
    },
    {
     "name": "stdout",
     "output_type": "stream",
     "text": [
      "===============Index: 379===============\n",
      "Archivo: 2100100022X\n",
      "Partido: unite\n",
      "Tipo: diputados\n",
      "\n",
      "\n",
      "Proporcion blanco: 0.9891549579605585\n"
     ]
    },
    {
     "data": {
      "image/png": "[encoded data removed]",
      "text/plain": [
       "<PIL.Image.Image image mode=RGB size=199x199>"
      ]
     },
     "metadata": {},
     "output_type": "display_data"
    },
    {
     "name": "stdout",
     "output_type": "stream",
     "text": [
      "Proporcion blanco: 0.926942061546841\n"
     ]
    },
    {
     "data": {
      "image/png": "[encoded data removed]",
      "text/plain": [
       "<PIL.Image.Image image mode=RGB size=48x48>"
      ]
     },
     "metadata": {},
     "output_type": "display_data"
    },
    {
     "name": "stdout",
     "output_type": "stream",
     "text": [
      "===============Index: 433===============\n",
      "Archivo: 2100100025X\n",
      "Partido: unite\n",
      "Tipo: diputados\n",
      "\n",
      "\n",
      "Proporcion blanco: 0.7652352401015503\n"
     ]
    },
    {
     "data": {
      "image/png": "[encoded data removed]",
      "text/plain": [
       "<PIL.Image.Image image mode=RGB size=33x33>"
      ]
     },
     "metadata": {},
     "output_type": "display_data"
    },
    {
     "name": "stdout",
     "output_type": "stream",
     "text": [
      "Proporcion blanco: 0.9899076458985961\n"
     ]
    },
    {
     "data": {
      "image/png": "[encoded data removed]",
      "text/plain": [
       "<PIL.Image.Image image mode=RGB size=130x130>"
      ]
     },
     "metadata": {},
     "output_type": "display_data"
    },
    {
     "name": "stdout",
     "output_type": "stream",
     "text": [
      "Proporcion blanco: 0.818324860808521\n"
     ]
    },
    {
     "data": {
      "image/png": "[encoded data removed]",
      "text/plain": [
       "<PIL.Image.Image image mode=RGB size=36x36>"
      ]
     },
     "metadata": {},
     "output_type": "display_data"
    },
    {
     "name": "stdout",
     "output_type": "stream",
     "text": [
      "Proporcion blanco: 0.8654679254417816\n"
     ]
    },
    {
     "data": {
      "image/png": "[encoded data removed]",
      "text/plain": [
       "<PIL.Image.Image image mode=RGB size=45x45>"
      ]
     },
     "metadata": {},
     "output_type": "display_data"
    },
    {
     "name": "stdout",
     "output_type": "stream",
     "text": [
      "===============Index: 451===============\n",
      "Archivo: 2100100026X\n",
      "Partido: unite\n",
      "Tipo: diputados\n",
      "\n",
      "\n",
      "Proporcion blanco: 0.9936196882834333\n"
     ]
    },
    {
     "data": {
      "image/png": "[encoded data removed]",
      "text/plain": [
       "<PIL.Image.Image image mode=RGB size=194x194>"
      ]
     },
     "metadata": {},
     "output_type": "display_data"
    },
    {
     "name": "stdout",
     "output_type": "stream",
     "text": [
      "Proporcion blanco: 0.7902511681051193\n"
     ]
    },
    {
     "data": {
      "image/png": "[encoded data removed]",
      "text/plain": [
       "<PIL.Image.Image image mode=RGB size=31x31>"
      ]
     },
     "metadata": {},
     "output_type": "display_data"
    },
    {
     "name": "stdout",
     "output_type": "stream",
     "text": [
      "Proporcion blanco: 0.7233321731059288\n"
     ]
    },
    {
     "data": {
      "image/png": "[encoded data removed]",
      "text/plain": [
       "<PIL.Image.Image image mode=RGB size=26x26>"
      ]
     },
     "metadata": {},
     "output_type": "display_data"
    },
    {
     "name": "stdout",
     "output_type": "stream",
     "text": [
      "Proporcion blanco: 0.8358888707837706\n"
     ]
    },
    {
     "data": {
      "image/png": "[encoded data removed]",
      "text/plain": [
       "<PIL.Image.Image image mode=RGB size=38x38>"
      ]
     },
     "metadata": {},
     "output_type": "display_data"
    },
    {
     "name": "stdout",
     "output_type": "stream",
     "text": [
      "===============Index: 453===============\n",
      "Archivo: 2100100026X\n",
      "Partido: frente amplio progresista\n",
      "Tipo: diputados\n",
      "\n",
      "\n",
      "Proporcion blanco: 0.7859198041016223\n"
     ]
    },
    {
     "data": {
      "image/png": "[encoded data removed]",
      "text/plain": [
       "<PIL.Image.Image image mode=RGB size=33x33>"
      ]
     },
     "metadata": {},
     "output_type": "display_data"
    },
    {
     "name": "stdout",
     "output_type": "stream",
     "text": [
      "Proporcion blanco: 0.991364200000988\n"
     ]
    },
    {
     "data": {
      "image/png": "[encoded data removed]",
      "text/plain": [
       "<PIL.Image.Image image mode=RGB size=126x126>"
      ]
     },
     "metadata": {},
     "output_type": "display_data"
    },
    {
     "name": "stdout",
     "output_type": "stream",
     "text": [
      "Proporcion blanco: 0.7430743046326735\n"
     ]
    },
    {
     "data": {
      "image/png": "[encoded data removed]",
      "text/plain": [
       "<PIL.Image.Image image mode=RGB size=29x29>"
      ]
     },
     "metadata": {},
     "output_type": "display_data"
    },
    {
     "name": "stdout",
     "output_type": "stream",
     "text": [
      "Proporcion blanco: 0.8478504825447348\n"
     ]
    },
    {
     "data": {
      "image/png": "[encoded data removed]",
      "text/plain": [
       "<PIL.Image.Image image mode=RGB size=31x31>"
      ]
     },
     "metadata": {},
     "output_type": "display_data"
    },
    {
     "name": "stdout",
     "output_type": "stream",
     "text": [
      "===============Index: 505===============\n",
      "Archivo: 2100100029X\n",
      "Partido: unite\n",
      "Tipo: diputados\n",
      "\n",
      "\n",
      "Proporcion blanco: 0.993146736738179\n"
     ]
    },
    {
     "data": {
      "image/png": "[encoded data removed]",
      "text/plain": [
       "<PIL.Image.Image image mode=RGB size=199x199>"
      ]
     },
     "metadata": {},
     "output_type": "display_data"
    },
    {
     "name": "stdout",
     "output_type": "stream",
     "text": [
      "Proporcion blanco: 0.6447088476222247\n"
     ]
    },
    {
     "data": {
      "image/png": "[encoded data removed]",
      "text/plain": [
       "<PIL.Image.Image image mode=RGB size=23x23>"
      ]
     },
     "metadata": {},
     "output_type": "display_data"
    },
    {
     "name": "stdout",
     "output_type": "stream",
     "text": [
      "Proporcion blanco: 0.6017003921568628\n"
     ]
    },
    {
     "data": {
      "image/png": "[encoded data removed]",
      "text/plain": [
       "<PIL.Image.Image image mode=RGB size=25x25>"
      ]
     },
     "metadata": {},
     "output_type": "display_data"
    },
    {
     "name": "stdout",
     "output_type": "stream",
     "text": [
      "Proporcion blanco: 0.7593507625272331\n"
     ]
    },
    {
     "data": {
      "image/png": "[encoded data removed]",
      "text/plain": [
       "<PIL.Image.Image image mode=RGB size=30x30>"
      ]
     },
     "metadata": {},
     "output_type": "display_data"
    },
    {
     "name": "stdout",
     "output_type": "stream",
     "text": [
      "===============Index: 507===============\n",
      "Archivo: 2100100029X\n",
      "Partido: frente amplio progresista\n",
      "Tipo: diputados\n",
      "\n",
      "\n",
      "Proporcion blanco: 0.9925032592264703\n"
     ]
    },
    {
     "data": {
      "image/png": "[encoded data removed]",
      "text/plain": [
       "<PIL.Image.Image image mode=RGB size=199x199>"
      ]
     },
     "metadata": {},
     "output_type": "display_data"
    },
    {
     "name": "stdout",
     "output_type": "stream",
     "text": [
      "Proporcion blanco: 0.6529956427015251\n"
     ]
    },
    {
     "data": {
      "image/png": "[encoded data removed]",
      "text/plain": [
       "<PIL.Image.Image image mode=RGB size=24x24>"
      ]
     },
     "metadata": {},
     "output_type": "display_data"
    },
    {
     "name": "stdout",
     "output_type": "stream",
     "text": [
      "Proporcion blanco: 0.8514855942376951\n"
     ]
    },
    {
     "data": {
      "image/png": "[encoded data removed]",
      "text/plain": [
       "<PIL.Image.Image image mode=RGB size=28x28>"
      ]
     },
     "metadata": {},
     "output_type": "display_data"
    },
    {
     "name": "stdout",
     "output_type": "stream",
     "text": [
      "Proporcion blanco: 0.764410746997761\n"
     ]
    },
    {
     "data": {
      "image/png": "[encoded data removed]",
      "text/plain": [
       "<PIL.Image.Image image mode=RGB size=34x34>"
      ]
     },
     "metadata": {},
     "output_type": "display_data"
    }
   ],
   "source": [
    "idxs_blanco_sospechoso = df.query(f\"max_prop_blanco_digitos > {UMBRAL_PROP_BLANCO_MAXIMO}\").head(10).index.values\n",
    "\n",
    "plot_digitos(df, idxs_blanco_sospechoso)"
   ]
  },
  {
   "cell_type": "markdown",
   "id": "8144c70f",
   "metadata": {},
   "source": [
    "Parece que en varios casos estamos leyendo la linea divisoria como digito, vamos a eliminar aquellos digitos cuyo porcentaje de blanco sea mayor o igual a 0.95."
   ]
  },
  {
   "cell_type": "code",
   "execution_count": 27,
   "id": "d931522c",
   "metadata": {},
   "outputs": [],
   "source": [
    "df['digitos'] = df.digitos.apply(\n",
    "    lambda digitos: [digito for digito in digitos if proporcion_pixeles_blancos(digito) < UMBRAL_PROP_BLANCO_MAXIMO]\n",
    ")\n",
    "\n",
    "df = calcular_indicadores_digitos(df)"
   ]
  },
  {
   "cell_type": "code",
   "execution_count": 29,
   "id": "21d37214",
   "metadata": {
    "scrolled": true
   },
   "outputs": [
    {
     "name": "stdout",
     "output_type": "stream",
     "text": [
      "===============Index: 197===============\n",
      "Archivo: 2100100011X\n",
      "Partido: frente de todos\n",
      "Tipo: diputados\n",
      "\n",
      "\n",
      "Proporcion blanco: 0.7746760295813827\n"
     ]
    },
    {
     "data": {
      "image/png": "[encoded data removed]",
      "text/plain": [
       "<PIL.Image.Image image mode=RGB size=34x34>"
      ]
     },
     "metadata": {},
     "output_type": "display_data"
    },
    {
     "name": "stdout",
     "output_type": "stream",
     "text": [
      "Proporcion blanco: 0.879360929557008\n"
     ]
    },
    {
     "data": {
      "image/png": "[encoded data removed]",
      "text/plain": [
       "<PIL.Image.Image image mode=RGB size=45x45>"
      ]
     },
     "metadata": {},
     "output_type": "display_data"
    },
    {
     "name": "stdout",
     "output_type": "stream",
     "text": [
      "Proporcion blanco: 0.8525583373845406\n"
     ]
    },
    {
     "data": {
      "image/png": "[encoded data removed]",
      "text/plain": [
       "<PIL.Image.Image image mode=RGB size=44x44>"
      ]
     },
     "metadata": {},
     "output_type": "display_data"
    },
    {
     "name": "stdout",
     "output_type": "stream",
     "text": [
      "===============Index: 199===============\n",
      "Archivo: 2100100012X\n",
      "Partido: unite\n",
      "Tipo: diputados\n",
      "\n",
      "\n",
      "Proporcion blanco: 0.8519539995929167\n"
     ]
    },
    {
     "data": {
      "image/png": "[encoded data removed]",
      "text/plain": [
       "<PIL.Image.Image image mode=RGB size=34x34>"
      ]
     },
     "metadata": {},
     "output_type": "display_data"
    },
    {
     "name": "stdout",
     "output_type": "stream",
     "text": [
      "Proporcion blanco: 0.675890356142457\n"
     ]
    },
    {
     "data": {
      "image/png": "[encoded data removed]",
      "text/plain": [
       "<PIL.Image.Image image mode=RGB size=28x28>"
      ]
     },
     "metadata": {},
     "output_type": "display_data"
    },
    {
     "name": "stdout",
     "output_type": "stream",
     "text": [
      "===============Index: 343===============\n",
      "Archivo: 2100100020X\n",
      "Partido: unite\n",
      "Tipo: diputados\n",
      "\n",
      "\n",
      "Proporcion blanco: 0.8268467683369645\n"
     ]
    },
    {
     "data": {
      "image/png": "[encoded data removed]",
      "text/plain": [
       "<PIL.Image.Image image mode=RGB size=45x45>"
      ]
     },
     "metadata": {},
     "output_type": "display_data"
    },
    {
     "name": "stdout",
     "output_type": "stream",
     "text": [
      "===============Index: 378===============\n",
      "Archivo: 2100100022X\n",
      "Partido: unite\n",
      "Tipo: senadores\n",
      "\n",
      "\n",
      "Proporcion blanco: 0.9285471132897604\n"
     ]
    },
    {
     "data": {
      "image/png": "[encoded data removed]",
      "text/plain": [
       "<PIL.Image.Image image mode=RGB size=48x48>"
      ]
     },
     "metadata": {},
     "output_type": "display_data"
    },
    {
     "name": "stdout",
     "output_type": "stream",
     "text": [
      "===============Index: 379===============\n",
      "Archivo: 2100100022X\n",
      "Partido: unite\n",
      "Tipo: diputados\n",
      "\n",
      "\n",
      "Proporcion blanco: 0.926942061546841\n"
     ]
    },
    {
     "data": {
      "image/png": "[encoded data removed]",
      "text/plain": [
       "<PIL.Image.Image image mode=RGB size=48x48>"
      ]
     },
     "metadata": {},
     "output_type": "display_data"
    },
    {
     "name": "stdout",
     "output_type": "stream",
     "text": [
      "===============Index: 433===============\n",
      "Archivo: 2100100025X\n",
      "Partido: unite\n",
      "Tipo: diputados\n",
      "\n",
      "\n",
      "Proporcion blanco: 0.7652352401015503\n"
     ]
    },
    {
     "data": {
      "image/png": "[encoded data removed]",
      "text/plain": [
       "<PIL.Image.Image image mode=RGB size=33x33>"
      ]
     },
     "metadata": {},
     "output_type": "display_data"
    },
    {
     "name": "stdout",
     "output_type": "stream",
     "text": [
      "Proporcion blanco: 0.818324860808521\n"
     ]
    },
    {
     "data": {
      "image/png": "[encoded data removed]",
      "text/plain": [
       "<PIL.Image.Image image mode=RGB size=36x36>"
      ]
     },
     "metadata": {},
     "output_type": "display_data"
    },
    {
     "name": "stdout",
     "output_type": "stream",
     "text": [
      "Proporcion blanco: 0.8654679254417816\n"
     ]
    },
    {
     "data": {
      "image/png": "[encoded data removed]",
      "text/plain": [
       "<PIL.Image.Image image mode=RGB size=45x45>"
      ]
     },
     "metadata": {},
     "output_type": "display_data"
    },
    {
     "name": "stdout",
     "output_type": "stream",
     "text": [
      "===============Index: 451===============\n",
      "Archivo: 2100100026X\n",
      "Partido: unite\n",
      "Tipo: diputados\n",
      "\n",
      "\n",
      "Proporcion blanco: 0.7902511681051193\n"
     ]
    },
    {
     "data": {
      "image/png": "[encoded data removed]",
      "text/plain": [
       "<PIL.Image.Image image mode=RGB size=31x31>"
      ]
     },
     "metadata": {},
     "output_type": "display_data"
    },
    {
     "name": "stdout",
     "output_type": "stream",
     "text": [
      "Proporcion blanco: 0.7233321731059288\n"
     ]
    },
    {
     "data": {
      "image/png": "[encoded data removed]",
      "text/plain": [
       "<PIL.Image.Image image mode=RGB size=26x26>"
      ]
     },
     "metadata": {},
     "output_type": "display_data"
    },
    {
     "name": "stdout",
     "output_type": "stream",
     "text": [
      "Proporcion blanco: 0.8358888707837706\n"
     ]
    },
    {
     "data": {
      "image/png": "[encoded data removed]",
      "text/plain": [
       "<PIL.Image.Image image mode=RGB size=38x38>"
      ]
     },
     "metadata": {},
     "output_type": "display_data"
    },
    {
     "name": "stdout",
     "output_type": "stream",
     "text": [
      "===============Index: 453===============\n",
      "Archivo: 2100100026X\n",
      "Partido: frente amplio progresista\n",
      "Tipo: diputados\n",
      "\n",
      "\n",
      "Proporcion blanco: 0.7859198041016223\n"
     ]
    },
    {
     "data": {
      "image/png": "[encoded data removed]",
      "text/plain": [
       "<PIL.Image.Image image mode=RGB size=33x33>"
      ]
     },
     "metadata": {},
     "output_type": "display_data"
    },
    {
     "name": "stdout",
     "output_type": "stream",
     "text": [
      "Proporcion blanco: 0.7430743046326735\n"
     ]
    },
    {
     "data": {
      "image/png": "[encoded data removed]",
      "text/plain": [
       "<PIL.Image.Image image mode=RGB size=29x29>"
      ]
     },
     "metadata": {},
     "output_type": "display_data"
    },
    {
     "name": "stdout",
     "output_type": "stream",
     "text": [
      "Proporcion blanco: 0.8478504825447348\n"
     ]
    },
    {
     "data": {
      "image/png": "[encoded data removed]",
      "text/plain": [
       "<PIL.Image.Image image mode=RGB size=31x31>"
      ]
     },
     "metadata": {},
     "output_type": "display_data"
    },
    {
     "name": "stdout",
     "output_type": "stream",
     "text": [
      "===============Index: 505===============\n",
      "Archivo: 2100100029X\n",
      "Partido: unite\n",
      "Tipo: diputados\n",
      "\n",
      "\n",
      "Proporcion blanco: 0.6447088476222247\n"
     ]
    },
    {
     "data": {
      "image/png": "[encoded data removed]",
      "text/plain": [
       "<PIL.Image.Image image mode=RGB size=23x23>"
      ]
     },
     "metadata": {},
     "output_type": "display_data"
    },
    {
     "name": "stdout",
     "output_type": "stream",
     "text": [
      "Proporcion blanco: 0.6017003921568628\n"
     ]
    },
    {
     "data": {
      "image/png": "[encoded data removed]",
      "text/plain": [
       "<PIL.Image.Image image mode=RGB size=25x25>"
      ]
     },
     "metadata": {},
     "output_type": "display_data"
    },
    {
     "name": "stdout",
     "output_type": "stream",
     "text": [
      "Proporcion blanco: 0.7593507625272331\n"
     ]
    },
    {
     "data": {
      "image/png": "[encoded data removed]",
      "text/plain": [
       "<PIL.Image.Image image mode=RGB size=30x30>"
      ]
     },
     "metadata": {},
     "output_type": "display_data"
    },
    {
     "name": "stdout",
     "output_type": "stream",
     "text": [
      "===============Index: 507===============\n",
      "Archivo: 2100100029X\n",
      "Partido: frente amplio progresista\n",
      "Tipo: diputados\n",
      "\n",
      "\n",
      "Proporcion blanco: 0.6529956427015251\n"
     ]
    },
    {
     "data": {
      "image/png": "[encoded data removed]",
      "text/plain": [
       "<PIL.Image.Image image mode=RGB size=24x24>"
      ]
     },
     "metadata": {},
     "output_type": "display_data"
    },
    {
     "name": "stdout",
     "output_type": "stream",
     "text": [
      "Proporcion blanco: 0.8514855942376951\n"
     ]
    },
    {
     "data": {
      "image/png": "[encoded data removed]",
      "text/plain": [
       "<PIL.Image.Image image mode=RGB size=28x28>"
      ]
     },
     "metadata": {},
     "output_type": "display_data"
    },
    {
     "name": "stdout",
     "output_type": "stream",
     "text": [
      "Proporcion blanco: 0.764410746997761\n"
     ]
    },
    {
     "data": {
      "image/png": "[encoded data removed]",
      "text/plain": [
       "<PIL.Image.Image image mode=RGB size=34x34>"
      ]
     },
     "metadata": {},
     "output_type": "display_data"
    }
   ],
   "source": [
    "plot_digitos(df, idxs_blanco_sospechoso)"
   ]
  },
  {
   "cell_type": "code",
   "execution_count": 30,
   "id": "eb2026ca",
   "metadata": {
    "scrolled": true
   },
   "outputs": [
    {
     "data": {
      "text/html": [
       "<div>\n",
       "<style scoped>\n",
       "    .dataframe tbody tr th:only-of-type {\n",
       "        vertical-align: middle;\n",
       "    }\n",
       "\n",
       "    .dataframe tbody tr th {\n",
       "        vertical-align: top;\n",
       "    }\n",
       "\n",
       "    .dataframe thead th {\n",
       "        text-align: right;\n",
       "    }\n",
       "</style>\n",
       "<table border=\"1\" class=\"dataframe\">\n",
       "  <thead>\n",
       "    <tr style=\"text-align: right;\">\n",
       "      <th></th>\n",
       "      <th>count</th>\n",
       "      <th>mean</th>\n",
       "      <th>std</th>\n",
       "      <th>min</th>\n",
       "      <th>25%</th>\n",
       "      <th>50%</th>\n",
       "      <th>75%</th>\n",
       "      <th>max</th>\n",
       "    </tr>\n",
       "  </thead>\n",
       "  <tbody>\n",
       "    <tr>\n",
       "      <th>cant_digitos</th>\n",
       "      <td>144126.0</td>\n",
       "      <td>2.277112</td>\n",
       "      <td>0.871925</td>\n",
       "      <td>0.000000</td>\n",
       "      <td>2.000000</td>\n",
       "      <td>3.000000</td>\n",
       "      <td>3.000000</td>\n",
       "      <td>14.000000</td>\n",
       "    </tr>\n",
       "    <tr>\n",
       "      <th>min_size_digitos</th>\n",
       "      <td>142529.0</td>\n",
       "      <td>38.346168</td>\n",
       "      <td>9.606046</td>\n",
       "      <td>7.000000</td>\n",
       "      <td>32.000000</td>\n",
       "      <td>37.000000</td>\n",
       "      <td>43.000000</td>\n",
       "      <td>621.000000</td>\n",
       "    </tr>\n",
       "    <tr>\n",
       "      <th>max_size_digitos</th>\n",
       "      <td>142529.0</td>\n",
       "      <td>44.798399</td>\n",
       "      <td>10.741423</td>\n",
       "      <td>13.000000</td>\n",
       "      <td>38.000000</td>\n",
       "      <td>43.000000</td>\n",
       "      <td>49.000000</td>\n",
       "      <td>621.000000</td>\n",
       "    </tr>\n",
       "    <tr>\n",
       "      <th>min_prop_blanco_digitos</th>\n",
       "      <td>142529.0</td>\n",
       "      <td>0.815857</td>\n",
       "      <td>0.057359</td>\n",
       "      <td>0.102281</td>\n",
       "      <td>0.782794</td>\n",
       "      <td>0.819790</td>\n",
       "      <td>0.855045</td>\n",
       "      <td>0.949951</td>\n",
       "    </tr>\n",
       "    <tr>\n",
       "      <th>max_prop_blanco_digitos</th>\n",
       "      <td>142529.0</td>\n",
       "      <td>0.862541</td>\n",
       "      <td>0.044920</td>\n",
       "      <td>0.267430</td>\n",
       "      <td>0.836710</td>\n",
       "      <td>0.867855</td>\n",
       "      <td>0.894313</td>\n",
       "      <td>0.949997</td>\n",
       "    </tr>\n",
       "  </tbody>\n",
       "</table>\n",
       "</div>"
      ],
      "text/plain": [
       "                            count       mean        std        min        25%  \\\n",
       "cant_digitos             144126.0   2.277112   0.871925   0.000000   2.000000   \n",
       "min_size_digitos         142529.0  38.346168   9.606046   7.000000  32.000000   \n",
       "max_size_digitos         142529.0  44.798399  10.741423  13.000000  38.000000   \n",
       "min_prop_blanco_digitos  142529.0   0.815857   0.057359   0.102281   0.782794   \n",
       "max_prop_blanco_digitos  142529.0   0.862541   0.044920   0.267430   0.836710   \n",
       "\n",
       "                               50%        75%         max  \n",
       "cant_digitos              3.000000   3.000000   14.000000  \n",
       "min_size_digitos         37.000000  43.000000  621.000000  \n",
       "max_size_digitos         43.000000  49.000000  621.000000  \n",
       "min_prop_blanco_digitos   0.819790   0.855045    0.949951  \n",
       "max_prop_blanco_digitos   0.867855   0.894313    0.949997  "
      ]
     },
     "execution_count": 30,
     "metadata": {},
     "output_type": "execute_result"
    }
   ],
   "source": [
    "df.describe().T"
   ]
  },
  {
   "cell_type": "markdown",
   "id": "9246ae35",
   "metadata": {},
   "source": [
    "Ahora vamos a ver los valores chicos de la proporcion de blancos."
   ]
  },
  {
   "cell_type": "code",
   "execution_count": 31,
   "id": "bc627b5f",
   "metadata": {},
   "outputs": [],
   "source": [
    "UMBRAL_PROP_BLANCO_MINIMO = 0.5"
   ]
  },
  {
   "cell_type": "code",
   "execution_count": 32,
   "id": "a75252fc",
   "metadata": {
    "scrolled": false
   },
   "outputs": [
    {
     "data": {
      "image/png": "[encoded data removed]",
      "text/plain": [
       "<Figure size 432x288 with 1 Axes>"
      ]
     },
     "metadata": {
      "needs_background": "light"
     },
     "output_type": "display_data"
    }
   ],
   "source": [
    "df.query(f\"min_prop_blanco_digitos < {UMBRAL_PROP_BLANCO_MINIMO}\").min_prop_blanco_digitos.hist(bins=100)\n",
    "plt.show()"
   ]
  },
  {
   "cell_type": "code",
   "execution_count": 33,
   "id": "f638f116",
   "metadata": {
    "scrolled": true
   },
   "outputs": [
    {
     "name": "stdout",
     "output_type": "stream",
     "text": [
      "===============Index: 363===============\n",
      "Archivo: 2100100021X\n",
      "Partido: frente amplio progresista\n",
      "Tipo: diputados\n",
      "\n",
      "\n",
      "Proporcion blanco: 0.7988888888888889\n"
     ]
    },
    {
     "data": {
      "image/png": "[encoded data removed]",
      "text/plain": [
       "<PIL.Image.Image image mode=RGB size=30x30>"
      ]
     },
     "metadata": {},
     "output_type": "display_data"
    },
    {
     "name": "stdout",
     "output_type": "stream",
     "text": [
      "Proporcion blanco: 0.9094229364499635\n"
     ]
    },
    {
     "data": {
      "image/png": "[encoded data removed]",
      "text/plain": [
       "<PIL.Image.Image image mode=RGB size=37x37>"
      ]
     },
     "metadata": {},
     "output_type": "display_data"
    },
    {
     "name": "stdout",
     "output_type": "stream",
     "text": [
      "Proporcion blanco: 0.4097959183673469\n"
     ]
    },
    {
     "data": {
      "image/png": "[encoded data removed]",
      "text/plain": [
       "<PIL.Image.Image image mode=RGB size=35x35>"
      ]
     },
     "metadata": {},
     "output_type": "display_data"
    },
    {
     "name": "stdout",
     "output_type": "stream",
     "text": [
      "===============Index: 1186===============\n",
      "Archivo: 2100100067X\n",
      "Partido: frente de todos\n",
      "Tipo: senadores\n",
      "\n",
      "\n",
      "Proporcion blanco: 0.4008102414519527\n"
     ]
    },
    {
     "data": {
      "image/png": "[encoded data removed]",
      "text/plain": [
       "<PIL.Image.Image image mode=RGB size=33x33>"
      ]
     },
     "metadata": {},
     "output_type": "display_data"
    },
    {
     "name": "stdout",
     "output_type": "stream",
     "text": [
      "Proporcion blanco: 0.4851920542160945\n"
     ]
    },
    {
     "data": {
      "image/png": "[encoded data removed]",
      "text/plain": [
       "<PIL.Image.Image image mode=RGB size=41x41>"
      ]
     },
     "metadata": {},
     "output_type": "display_data"
    },
    {
     "name": "stdout",
     "output_type": "stream",
     "text": [
      "Proporcion blanco: 0.6735813383750965\n"
     ]
    },
    {
     "data": {
      "image/png": "[encoded data removed]",
      "text/plain": [
       "<PIL.Image.Image image mode=RGB size=47x47>"
      ]
     },
     "metadata": {},
     "output_type": "display_data"
    },
    {
     "name": "stdout",
     "output_type": "stream",
     "text": [
      "===============Index: 1187===============\n",
      "Archivo: 2100100067X\n",
      "Partido: frente de todos\n",
      "Tipo: diputados\n",
      "\n",
      "\n",
      "Proporcion blanco: 0.3671654152937575\n"
     ]
    },
    {
     "data": {
      "image/png": "[encoded data removed]",
      "text/plain": [
       "<PIL.Image.Image image mode=RGB size=33x33>"
      ]
     },
     "metadata": {},
     "output_type": "display_data"
    },
    {
     "name": "stdout",
     "output_type": "stream",
     "text": [
      "Proporcion blanco: 0.4763197586726998\n"
     ]
    },
    {
     "data": {
      "image/png": "[encoded data removed]",
      "text/plain": [
       "<PIL.Image.Image image mode=RGB size=39x39>"
      ]
     },
     "metadata": {},
     "output_type": "display_data"
    },
    {
     "name": "stdout",
     "output_type": "stream",
     "text": [
      "Proporcion blanco: 0.6848829854522455\n"
     ]
    },
    {
     "data": {
      "image/png": "[encoded data removed]",
      "text/plain": [
       "<PIL.Image.Image image mode=RGB size=31x31>"
      ]
     },
     "metadata": {},
     "output_type": "display_data"
    },
    {
     "name": "stdout",
     "output_type": "stream",
     "text": [
      "===============Index: 4292===============\n",
      "Archivo: 2100200246X\n",
      "Partido: primero santa fe\n",
      "Tipo: senadores\n",
      "\n",
      "\n",
      "Proporcion blanco: 0.4759252813551456\n"
     ]
    },
    {
     "data": {
      "image/png": "[encoded data removed]",
      "text/plain": [
       "<PIL.Image.Image image mode=RGB size=13x13>"
      ]
     },
     "metadata": {},
     "output_type": "display_data"
    },
    {
     "name": "stdout",
     "output_type": "stream",
     "text": [
      "Proporcion blanco: 0.10228091236494598\n"
     ]
    },
    {
     "data": {
      "image/png": "[encoded data removed]",
      "text/plain": [
       "<PIL.Image.Image image mode=RGB size=7x7>"
      ]
     },
     "metadata": {},
     "output_type": "display_data"
    },
    {
     "name": "stdout",
     "output_type": "stream",
     "text": [
      "Proporcion blanco: 0.4110980392156863\n"
     ]
    },
    {
     "data": {
      "image/png": "[encoded data removed]",
      "text/plain": [
       "<PIL.Image.Image image mode=RGB size=10x10>"
      ]
     },
     "metadata": {},
     "output_type": "display_data"
    },
    {
     "name": "stdout",
     "output_type": "stream",
     "text": [
      "Proporcion blanco: 0.21752450980392157\n"
     ]
    },
    {
     "data": {
      "image/png": "[encoded data removed]",
      "text/plain": [
       "<PIL.Image.Image image mode=RGB size=8x8>"
      ]
     },
     "metadata": {},
     "output_type": "display_data"
    },
    {
     "name": "stdout",
     "output_type": "stream",
     "text": [
      "Proporcion blanco: 0.4391356542617047\n"
     ]
    },
    {
     "data": {
      "image/png": "[encoded data removed]",
      "text/plain": [
       "<PIL.Image.Image image mode=RGB size=7x7>"
      ]
     },
     "metadata": {},
     "output_type": "display_data"
    },
    {
     "name": "stdout",
     "output_type": "stream",
     "text": [
      "Proporcion blanco: 0.32292917166866747\n"
     ]
    },
    {
     "data": {
      "image/png": "[encoded data removed]",
      "text/plain": [
       "<PIL.Image.Image image mode=RGB size=7x7>"
      ]
     },
     "metadata": {},
     "output_type": "display_data"
    },
    {
     "name": "stdout",
     "output_type": "stream",
     "text": [
      "Proporcion blanco: 0.5140819964349376\n"
     ]
    },
    {
     "data": {
      "image/png": "[encoded data removed]",
      "text/plain": [
       "<PIL.Image.Image image mode=RGB size=11x11>"
      ]
     },
     "metadata": {},
     "output_type": "display_data"
    },
    {
     "name": "stdout",
     "output_type": "stream",
     "text": [
      "Proporcion blanco: 0.2954781912765106\n"
     ]
    },
    {
     "data": {
      "image/png": "[encoded data removed]",
      "text/plain": [
       "<PIL.Image.Image image mode=RGB size=7x7>"
      ]
     },
     "metadata": {},
     "output_type": "display_data"
    },
    {
     "name": "stdout",
     "output_type": "stream",
     "text": [
      "===============Index: 4298===============\n",
      "Archivo: 2100200246X\n",
      "Partido: soberania popular\n",
      "Tipo: senadores\n",
      "\n",
      "\n",
      "Proporcion blanco: 0.7343947496353913\n"
     ]
    },
    {
     "data": {
      "image/png": "[encoded data removed]",
      "text/plain": [
       "<PIL.Image.Image image mode=RGB size=22x22>"
      ]
     },
     "metadata": {},
     "output_type": "display_data"
    },
    {
     "name": "stdout",
     "output_type": "stream",
     "text": [
      "Proporcion blanco: 0.36562575647542966\n"
     ]
    },
    {
     "data": {
      "image/png": "[encoded data removed]",
      "text/plain": [
       "<PIL.Image.Image image mode=RGB size=9x9>"
      ]
     },
     "metadata": {},
     "output_type": "display_data"
    },
    {
     "name": "stdout",
     "output_type": "stream",
     "text": [
      "Proporcion blanco: 0.6356158088235294\n"
     ]
    },
    {
     "data": {
      "image/png": "[encoded data removed]",
      "text/plain": [
       "<PIL.Image.Image image mode=RGB size=16x16>"
      ]
     },
     "metadata": {},
     "output_type": "display_data"
    },
    {
     "name": "stdout",
     "output_type": "stream",
     "text": [
      "Proporcion blanco: 0.7193960132529466\n"
     ]
    },
    {
     "data": {
      "image/png": "[encoded data removed]",
      "text/plain": [
       "<PIL.Image.Image image mode=RGB size=19x19>"
      ]
     },
     "metadata": {},
     "output_type": "display_data"
    },
    {
     "name": "stdout",
     "output_type": "stream",
     "text": [
      "Proporcion blanco: 0.538925629423367\n"
     ]
    },
    {
     "data": {
      "image/png": "[encoded data removed]",
      "text/plain": [
       "<PIL.Image.Image image mode=RGB size=13x13>"
      ]
     },
     "metadata": {},
     "output_type": "display_data"
    },
    {
     "name": "stdout",
     "output_type": "stream",
     "text": [
      "Proporcion blanco: 0.720645266416816\n"
     ]
    },
    {
     "data": {
      "image/png": "[encoded data removed]",
      "text/plain": [
       "<PIL.Image.Image image mode=RGB size=19x19>"
      ]
     },
     "metadata": {},
     "output_type": "display_data"
    },
    {
     "name": "stdout",
     "output_type": "stream",
     "text": [
      "Proporcion blanco: 0.6843951985226223\n"
     ]
    },
    {
     "data": {
      "image/png": "[encoded data removed]",
      "text/plain": [
       "<PIL.Image.Image image mode=RGB size=19x19>"
      ]
     },
     "metadata": {},
     "output_type": "display_data"
    },
    {
     "name": "stdout",
     "output_type": "stream",
     "text": [
      "Proporcion blanco: 0.41658823529411765\n"
     ]
    },
    {
     "data": {
      "image/png": "[encoded data removed]",
      "text/plain": [
       "<PIL.Image.Image image mode=RGB size=10x10>"
      ]
     },
     "metadata": {},
     "output_type": "display_data"
    },
    {
     "name": "stdout",
     "output_type": "stream",
     "text": [
      "Proporcion blanco: 0.25\n"
     ]
    },
    {
     "data": {
      "image/png": "[encoded data removed]",
      "text/plain": [
       "<PIL.Image.Image image mode=RGB size=8x8>"
      ]
     },
     "metadata": {},
     "output_type": "display_data"
    },
    {
     "name": "stdout",
     "output_type": "stream",
     "text": [
      "Proporcion blanco: 0.25\n"
     ]
    },
    {
     "data": {
      "image/png": "[encoded data removed]",
      "text/plain": [
       "<PIL.Image.Image image mode=RGB size=8x8>"
      ]
     },
     "metadata": {},
     "output_type": "display_data"
    }
   ],
   "source": [
    "idxs_blanco_sospechoso = df.query(f\"min_prop_blanco_digitos < {UMBRAL_PROP_BLANCO_MINIMO}\").head().index.values\n",
    "\n",
    "plot_digitos(df, idxs_blanco_sospechoso)"
   ]
  },
  {
   "cell_type": "markdown",
   "id": "9cdccf5e",
   "metadata": {},
   "source": [
    "A diferencia con el `max_prop_blanco_digitos` aca no podemos filtrar el digito solamente, ya que por lo visto todo el voto posee verdura."
   ]
  },
  {
   "cell_type": "code",
   "execution_count": 34,
   "id": "22a8f218",
   "metadata": {},
   "outputs": [],
   "source": [
    "df = df.query(f\"min_prop_blanco_digitos >= {UMBRAL_PROP_BLANCO_MINIMO}\").copy()"
   ]
  },
  {
   "cell_type": "markdown",
   "id": "2169c9bd",
   "metadata": {},
   "source": [
    "Ahora vamos a ver el size de los digitos."
   ]
  },
  {
   "cell_type": "code",
   "execution_count": 35,
   "id": "c475142d",
   "metadata": {
    "scrolled": true
   },
   "outputs": [
    {
     "data": {
      "image/png": "[encoded data removed]",
      "text/plain": [
       "<Figure size 1080x360 with 2 Axes>"
      ]
     },
     "metadata": {
      "needs_background": "light"
     },
     "output_type": "display_data"
    }
   ],
   "source": [
    "plot_dos_histogramas(df, 'min_size_digitos', 'max_size_digitos')"
   ]
  },
  {
   "cell_type": "code",
   "execution_count": 36,
   "id": "adad6fe7",
   "metadata": {
    "scrolled": true
   },
   "outputs": [
    {
     "data": {
      "text/html": [
       "<div>\n",
       "<style scoped>\n",
       "    .dataframe tbody tr th:only-of-type {\n",
       "        vertical-align: middle;\n",
       "    }\n",
       "\n",
       "    .dataframe tbody tr th {\n",
       "        vertical-align: top;\n",
       "    }\n",
       "\n",
       "    .dataframe thead th {\n",
       "        text-align: right;\n",
       "    }\n",
       "</style>\n",
       "<table border=\"1\" class=\"dataframe\">\n",
       "  <thead>\n",
       "    <tr style=\"text-align: right;\">\n",
       "      <th></th>\n",
       "      <th>count</th>\n",
       "      <th>mean</th>\n",
       "      <th>std</th>\n",
       "      <th>min</th>\n",
       "      <th>25%</th>\n",
       "      <th>50%</th>\n",
       "      <th>75%</th>\n",
       "      <th>max</th>\n",
       "    </tr>\n",
       "  </thead>\n",
       "  <tbody>\n",
       "    <tr>\n",
       "      <th>cant_digitos</th>\n",
       "      <td>142349.0</td>\n",
       "      <td>2.302039</td>\n",
       "      <td>0.841053</td>\n",
       "      <td>1.000000</td>\n",
       "      <td>2.000000</td>\n",
       "      <td>3.000000</td>\n",
       "      <td>3.000000</td>\n",
       "      <td>8.000000</td>\n",
       "    </tr>\n",
       "    <tr>\n",
       "      <th>min_size_digitos</th>\n",
       "      <td>142349.0</td>\n",
       "      <td>38.349388</td>\n",
       "      <td>9.608119</td>\n",
       "      <td>13.000000</td>\n",
       "      <td>32.000000</td>\n",
       "      <td>37.000000</td>\n",
       "      <td>43.000000</td>\n",
       "      <td>621.000000</td>\n",
       "    </tr>\n",
       "    <tr>\n",
       "      <th>max_size_digitos</th>\n",
       "      <td>142349.0</td>\n",
       "      <td>44.791119</td>\n",
       "      <td>10.725948</td>\n",
       "      <td>18.000000</td>\n",
       "      <td>38.000000</td>\n",
       "      <td>43.000000</td>\n",
       "      <td>49.000000</td>\n",
       "      <td>621.000000</td>\n",
       "    </tr>\n",
       "    <tr>\n",
       "      <th>min_prop_blanco_digitos</th>\n",
       "      <td>142349.0</td>\n",
       "      <td>0.816386</td>\n",
       "      <td>0.055369</td>\n",
       "      <td>0.500020</td>\n",
       "      <td>0.782955</td>\n",
       "      <td>0.819876</td>\n",
       "      <td>0.855083</td>\n",
       "      <td>0.949951</td>\n",
       "    </tr>\n",
       "    <tr>\n",
       "      <th>max_prop_blanco_digitos</th>\n",
       "      <td>142349.0</td>\n",
       "      <td>0.862843</td>\n",
       "      <td>0.043699</td>\n",
       "      <td>0.501469</td>\n",
       "      <td>0.836812</td>\n",
       "      <td>0.867917</td>\n",
       "      <td>0.894351</td>\n",
       "      <td>0.949997</td>\n",
       "    </tr>\n",
       "  </tbody>\n",
       "</table>\n",
       "</div>"
      ],
      "text/plain": [
       "                            count       mean        std        min        25%  \\\n",
       "cant_digitos             142349.0   2.302039   0.841053   1.000000   2.000000   \n",
       "min_size_digitos         142349.0  38.349388   9.608119  13.000000  32.000000   \n",
       "max_size_digitos         142349.0  44.791119  10.725948  18.000000  38.000000   \n",
       "min_prop_blanco_digitos  142349.0   0.816386   0.055369   0.500020   0.782955   \n",
       "max_prop_blanco_digitos  142349.0   0.862843   0.043699   0.501469   0.836812   \n",
       "\n",
       "                               50%        75%         max  \n",
       "cant_digitos              3.000000   3.000000    8.000000  \n",
       "min_size_digitos         37.000000  43.000000  621.000000  \n",
       "max_size_digitos         43.000000  49.000000  621.000000  \n",
       "min_prop_blanco_digitos   0.819876   0.855083    0.949951  \n",
       "max_prop_blanco_digitos   0.867917   0.894351    0.949997  "
      ]
     },
     "execution_count": 36,
     "metadata": {},
     "output_type": "execute_result"
    }
   ],
   "source": [
    "df.describe().T"
   ]
  },
  {
   "cell_type": "code",
   "execution_count": 37,
   "id": "1b304eaa",
   "metadata": {},
   "outputs": [
    {
     "data": {
      "text/plain": [
       "87.69476129001237"
      ]
     },
     "execution_count": 37,
     "metadata": {},
     "output_type": "execute_result"
    }
   ],
   "source": [
    "UMBRAL_SIZE_MAXIMO = np.mean(df.max_size_digitos) + 4 * np.std(df.max_size_digitos)\n",
    "UMBRAL_SIZE_MAXIMO"
   ]
  },
  {
   "cell_type": "code",
   "execution_count": 38,
   "id": "f716f417",
   "metadata": {},
   "outputs": [
    {
     "data": {
      "text/html": [
       "<div>\n",
       "<style scoped>\n",
       "    .dataframe tbody tr th:only-of-type {\n",
       "        vertical-align: middle;\n",
       "    }\n",
       "\n",
       "    .dataframe tbody tr th {\n",
       "        vertical-align: top;\n",
       "    }\n",
       "\n",
       "    .dataframe thead th {\n",
       "        text-align: right;\n",
       "    }\n",
       "</style>\n",
       "<table border=\"1\" class=\"dataframe\">\n",
       "  <thead>\n",
       "    <tr style=\"text-align: right;\">\n",
       "      <th></th>\n",
       "      <th>count</th>\n",
       "      <th>mean</th>\n",
       "      <th>std</th>\n",
       "      <th>min</th>\n",
       "      <th>25%</th>\n",
       "      <th>50%</th>\n",
       "      <th>75%</th>\n",
       "      <th>max</th>\n",
       "    </tr>\n",
       "  </thead>\n",
       "  <tbody>\n",
       "    <tr>\n",
       "      <th>cant_digitos</th>\n",
       "      <td>1126.0</td>\n",
       "      <td>1.683837</td>\n",
       "      <td>0.862784</td>\n",
       "      <td>1.000000</td>\n",
       "      <td>1.000000</td>\n",
       "      <td>2.000000</td>\n",
       "      <td>2.000000</td>\n",
       "      <td>8.000000</td>\n",
       "    </tr>\n",
       "    <tr>\n",
       "      <th>min_size_digitos</th>\n",
       "      <td>1126.0</td>\n",
       "      <td>75.341030</td>\n",
       "      <td>37.360526</td>\n",
       "      <td>22.000000</td>\n",
       "      <td>46.000000</td>\n",
       "      <td>62.000000</td>\n",
       "      <td>101.000000</td>\n",
       "      <td>621.000000</td>\n",
       "    </tr>\n",
       "    <tr>\n",
       "      <th>max_size_digitos</th>\n",
       "      <td>1126.0</td>\n",
       "      <td>103.652753</td>\n",
       "      <td>23.207877</td>\n",
       "      <td>88.000000</td>\n",
       "      <td>92.000000</td>\n",
       "      <td>97.000000</td>\n",
       "      <td>109.000000</td>\n",
       "      <td>621.000000</td>\n",
       "    </tr>\n",
       "    <tr>\n",
       "      <th>min_prop_blanco_digitos</th>\n",
       "      <td>1126.0</td>\n",
       "      <td>0.874347</td>\n",
       "      <td>0.061433</td>\n",
       "      <td>0.577621</td>\n",
       "      <td>0.842884</td>\n",
       "      <td>0.891543</td>\n",
       "      <td>0.919668</td>\n",
       "      <td>0.949951</td>\n",
       "    </tr>\n",
       "    <tr>\n",
       "      <th>max_prop_blanco_digitos</th>\n",
       "      <td>1126.0</td>\n",
       "      <td>0.916414</td>\n",
       "      <td>0.025210</td>\n",
       "      <td>0.747708</td>\n",
       "      <td>0.906445</td>\n",
       "      <td>0.920682</td>\n",
       "      <td>0.933624</td>\n",
       "      <td>0.949951</td>\n",
       "    </tr>\n",
       "  </tbody>\n",
       "</table>\n",
       "</div>"
      ],
      "text/plain": [
       "                          count        mean        std        min        25%  \\\n",
       "cant_digitos             1126.0    1.683837   0.862784   1.000000   1.000000   \n",
       "min_size_digitos         1126.0   75.341030  37.360526  22.000000  46.000000   \n",
       "max_size_digitos         1126.0  103.652753  23.207877  88.000000  92.000000   \n",
       "min_prop_blanco_digitos  1126.0    0.874347   0.061433   0.577621   0.842884   \n",
       "max_prop_blanco_digitos  1126.0    0.916414   0.025210   0.747708   0.906445   \n",
       "\n",
       "                               50%         75%         max  \n",
       "cant_digitos              2.000000    2.000000    8.000000  \n",
       "min_size_digitos         62.000000  101.000000  621.000000  \n",
       "max_size_digitos         97.000000  109.000000  621.000000  \n",
       "min_prop_blanco_digitos   0.891543    0.919668    0.949951  \n",
       "max_prop_blanco_digitos   0.920682    0.933624    0.949951  "
      ]
     },
     "execution_count": 38,
     "metadata": {},
     "output_type": "execute_result"
    }
   ],
   "source": [
    "df.query(f\"max_size_digitos > {UMBRAL_SIZE_MAXIMO}\").describe().T"
   ]
  },
  {
   "cell_type": "code",
   "execution_count": 39,
   "id": "69082957",
   "metadata": {},
   "outputs": [
    {
     "name": "stdout",
     "output_type": "stream",
     "text": [
      "===============Index: 780===============\n",
      "Archivo: 2100100044X\n",
      "Partido: juntos\n",
      "Tipo: senadores\n",
      "\n",
      "\n",
      "Proporcion blanco: 0.9113263080765699\n"
     ]
    },
    {
     "data": {
      "image/png": "[encoded data removed]",
      "text/plain": [
       "<PIL.Image.Image image mode=RGB size=89x89>"
      ]
     },
     "metadata": {},
     "output_type": "display_data"
    },
    {
     "name": "stdout",
     "output_type": "stream",
     "text": [
      "===============Index: 2686===============\n",
      "Archivo: 2100200153X\n",
      "Partido: fit\n",
      "Tipo: senadores\n",
      "\n",
      "\n",
      "Proporcion blanco: 0.9047882674864373\n"
     ]
    },
    {
     "data": {
      "image/png": "[encoded data removed]",
      "text/plain": [
       "<PIL.Image.Image image mode=RGB size=93x93>"
      ]
     },
     "metadata": {},
     "output_type": "display_data"
    },
    {
     "name": "stdout",
     "output_type": "stream",
     "text": [
      "===============Index: 2687===============\n",
      "Archivo: 2100200153X\n",
      "Partido: fit\n",
      "Tipo: diputados\n",
      "\n",
      "\n",
      "Proporcion blanco: 0.9018365179678739\n"
     ]
    },
    {
     "data": {
      "image/png": "[encoded data removed]",
      "text/plain": [
       "<PIL.Image.Image image mode=RGB size=89x89>"
      ]
     },
     "metadata": {},
     "output_type": "display_data"
    },
    {
     "name": "stdout",
     "output_type": "stream",
     "text": [
      "===============Index: 2688===============\n",
      "Archivo: 2100200153X\n",
      "Partido: juntos\n",
      "Tipo: senadores\n",
      "\n",
      "\n",
      "Proporcion blanco: 0.9069670636849781\n"
     ]
    },
    {
     "data": {
      "image/png": "[encoded data removed]",
      "text/plain": [
       "<PIL.Image.Image image mode=RGB size=88x88>"
      ]
     },
     "metadata": {},
     "output_type": "display_data"
    },
    {
     "name": "stdout",
     "output_type": "stream",
     "text": [
      "===============Index: 3003===============\n",
      "Archivo: 2100200173X\n",
      "Partido: soberania popular\n",
      "Tipo: diputados\n",
      "\n",
      "\n",
      "Proporcion blanco: 0.9420549469787916\n"
     ]
    },
    {
     "data": {
      "image/png": "[encoded data removed]",
      "text/plain": [
       "<PIL.Image.Image image mode=RGB size=112x112>"
      ]
     },
     "metadata": {},
     "output_type": "display_data"
    },
    {
     "name": "stdout",
     "output_type": "stream",
     "text": [
      "===============Index: 4284===============\n",
      "Archivo: 2100200246X\n",
      "Partido: unite\n",
      "Tipo: senadores\n",
      "\n",
      "\n",
      "Proporcion blanco: 0.9033421786492375\n"
     ]
    },
    {
     "data": {
      "image/png": "[encoded data removed]",
      "text/plain": [
       "<PIL.Image.Image image mode=RGB size=300x300>"
      ]
     },
     "metadata": {},
     "output_type": "display_data"
    },
    {
     "name": "stdout",
     "output_type": "stream",
     "text": [
      "===============Index: 4289===============\n",
      "Archivo: 2100200246X\n",
      "Partido: fit\n",
      "Tipo: diputados\n",
      "\n",
      "\n",
      "Proporcion blanco: 0.9016020640145302\n"
     ]
    },
    {
     "data": {
      "image/png": "[encoded data removed]",
      "text/plain": [
       "<PIL.Image.Image image mode=RGB size=621x621>"
      ]
     },
     "metadata": {},
     "output_type": "display_data"
    },
    {
     "name": "stdout",
     "output_type": "stream",
     "text": [
      "===============Index: 4294===============\n",
      "Archivo: 2100200246X\n",
      "Partido: somos futuro\n",
      "Tipo: senadores\n",
      "\n",
      "\n",
      "Proporcion blanco: 0.9340880870306535\n"
     ]
    },
    {
     "data": {
      "image/png": "[encoded data removed]",
      "text/plain": [
       "<PIL.Image.Image image mode=RGB size=92x92>"
      ]
     },
     "metadata": {},
     "output_type": "display_data"
    },
    {
     "name": "stdout",
     "output_type": "stream",
     "text": [
      "Proporcion blanco: 0.9417573900039964\n"
     ]
    },
    {
     "data": {
      "image/png": "[encoded data removed]",
      "text/plain": [
       "<PIL.Image.Image image mode=RGB size=156x156>"
      ]
     },
     "metadata": {},
     "output_type": "display_data"
    },
    {
     "name": "stdout",
     "output_type": "stream",
     "text": [
      "Proporcion blanco: 0.9284587259976582\n"
     ]
    },
    {
     "data": {
      "image/png": "[encoded data removed]",
      "text/plain": [
       "<PIL.Image.Image image mode=RGB size=89x89>"
      ]
     },
     "metadata": {},
     "output_type": "display_data"
    },
    {
     "name": "stdout",
     "output_type": "stream",
     "text": [
      "===============Index: 10353===============\n",
      "Archivo: 2100300588X\n",
      "Partido: somos futuro\n",
      "Tipo: diputados\n",
      "\n",
      "\n",
      "Proporcion blanco: 0.9394257762022409\n"
     ]
    },
    {
     "data": {
      "image/png": "[encoded data removed]",
      "text/plain": [
       "<PIL.Image.Image image mode=RGB size=109x109>"
      ]
     },
     "metadata": {},
     "output_type": "display_data"
    },
    {
     "name": "stdout",
     "output_type": "stream",
     "text": [
      "===============Index: 11654===============\n",
      "Archivo: 2100300660X\n",
      "Partido: frente de todos\n",
      "Tipo: senadores\n",
      "\n",
      "\n",
      "Proporcion blanco: 0.9499509992386036\n"
     ]
    },
    {
     "data": {
      "image/png": "[encoded data removed]",
      "text/plain": [
       "<PIL.Image.Image image mode=RGB size=102x102>"
      ]
     },
     "metadata": {},
     "output_type": "display_data"
    }
   ],
   "source": [
    "idxs_size_sospechoso = df.query(f\"max_size_digitos > {UMBRAL_SIZE_MAXIMO}\").head(10).index.values\n",
    "\n",
    "plot_digitos(df, idxs_size_sospechoso)"
   ]
  },
  {
   "cell_type": "markdown",
   "id": "53529362",
   "metadata": {},
   "source": [
    "Aca parecen haber muchos errores, numeros muy pegados o cosas raras. \n",
    "\n",
    "Los eliminamos."
   ]
  },
  {
   "cell_type": "code",
   "execution_count": 40,
   "id": "7bbb37d8",
   "metadata": {},
   "outputs": [],
   "source": [
    "df = df.query(f\"max_size_digitos <= {UMBRAL_SIZE_MAXIMO}\").copy()"
   ]
  },
  {
   "cell_type": "markdown",
   "id": "955ac35e",
   "metadata": {},
   "source": [
    "Ahora vamos a ver que pasa con la cantidad de digitos."
   ]
  },
  {
   "cell_type": "code",
   "execution_count": 41,
   "id": "1997713a",
   "metadata": {},
   "outputs": [
    {
     "data": {
      "text/plain": [
       "3    74745\n",
       "1    33150\n",
       "2    32621\n",
       "4      477\n",
       "5      149\n",
       "6       55\n",
       "7       21\n",
       "8        5\n",
       "Name: cant_digitos, dtype: int64"
      ]
     },
     "execution_count": 41,
     "metadata": {},
     "output_type": "execute_result"
    }
   ],
   "source": [
    "df.cant_digitos.value_counts()"
   ]
  },
  {
   "cell_type": "markdown",
   "id": "acca5cfe",
   "metadata": {},
   "source": [
    "Cada voto deberia tener como maximo 3 digitos. Vamos a ver que pasa con esos que superan los 3 digitos."
   ]
  },
  {
   "cell_type": "code",
   "execution_count": 42,
   "id": "9731bbb6",
   "metadata": {
    "scrolled": true
   },
   "outputs": [
    {
     "data": {
      "text/plain": [
       "id_telegrama\n",
       "2100100007X     1\n",
       "2100100009X     1\n",
       "2100100011X     2\n",
       "2100100042X     1\n",
       "2100100049X     1\n",
       "               ..\n",
       "2102107992X    16\n",
       "2102208077X     1\n",
       "2102208097X     1\n",
       "2102208130X     1\n",
       "2102208163X     2\n",
       "Length: 284, dtype: int64"
      ]
     },
     "execution_count": 42,
     "metadata": {},
     "output_type": "execute_result"
    }
   ],
   "source": [
    "df_cant_sospechoso = df.query(\"cant_digitos > 3\").copy()\n",
    "\n",
    "df_cant_sospechoso.groupby(['id_telegrama']).size()"
   ]
  },
  {
   "cell_type": "code",
   "execution_count": 43,
   "id": "73b5a847",
   "metadata": {},
   "outputs": [
    {
     "name": "stdout",
     "output_type": "stream",
     "text": [
      "===============Index: 114===============\n",
      "Archivo: 2100100007X\n",
      "Partido: juntos\n",
      "Tipo: senadores\n",
      "\n",
      "\n",
      "Proporcion blanco: 0.7975056886952312\n"
     ]
    },
    {
     "data": {
      "image/png": "[encoded data removed]",
      "text/plain": [
       "<PIL.Image.Image image mode=RGB size=45x45>"
      ]
     },
     "metadata": {},
     "output_type": "display_data"
    },
    {
     "name": "stdout",
     "output_type": "stream",
     "text": [
      "Proporcion blanco: 0.8949312428184885\n"
     ]
    },
    {
     "data": {
      "image/png": "[encoded data removed]",
      "text/plain": [
       "<PIL.Image.Image image mode=RGB size=46x46>"
      ]
     },
     "metadata": {},
     "output_type": "display_data"
    },
    {
     "name": "stdout",
     "output_type": "stream",
     "text": [
      "Proporcion blanco: 0.7772363383223112\n"
     ]
    },
    {
     "data": {
      "image/png": "[encoded data removed]",
      "text/plain": [
       "<PIL.Image.Image image mode=RGB size=39x39>"
      ]
     },
     "metadata": {},
     "output_type": "display_data"
    },
    {
     "name": "stdout",
     "output_type": "stream",
     "text": [
      "Proporcion blanco: 0.7776955226535058\n"
     ]
    },
    {
     "data": {
      "image/png": "[encoded data removed]",
      "text/plain": [
       "<PIL.Image.Image image mode=RGB size=42x42>"
      ]
     },
     "metadata": {},
     "output_type": "display_data"
    },
    {
     "name": "stdout",
     "output_type": "stream",
     "text": [
      "===============Index: 160===============\n",
      "Archivo: 2100100009X\n",
      "Partido: frente de todos\n",
      "Tipo: senadores\n",
      "\n",
      "\n",
      "Proporcion blanco: 0.9136054421768708\n"
     ]
    },
    {
     "data": {
      "image/png": "[encoded data removed]",
      "text/plain": [
       "<PIL.Image.Image image mode=RGB size=42x42>"
      ]
     },
     "metadata": {},
     "output_type": "display_data"
    },
    {
     "name": "stdout",
     "output_type": "stream",
     "text": [
      "Proporcion blanco: 0.9027450980392157\n"
     ]
    },
    {
     "data": {
      "image/png": "[encoded data removed]",
      "text/plain": [
       "<PIL.Image.Image image mode=RGB size=45x45>"
      ]
     },
     "metadata": {},
     "output_type": "display_data"
    },
    {
     "name": "stdout",
     "output_type": "stream",
     "text": [
      "Proporcion blanco: 0.8161237064270153\n"
     ]
    },
    {
     "data": {
      "image/png": "[encoded data removed]",
      "text/plain": [
       "<PIL.Image.Image image mode=RGB size=48x48>"
      ]
     },
     "metadata": {},
     "output_type": "display_data"
    },
    {
     "name": "stdout",
     "output_type": "stream",
     "text": [
      "Proporcion blanco: 0.896644154389894\n"
     ]
    },
    {
     "data": {
      "image/png": "[encoded data removed]",
      "text/plain": [
       "<PIL.Image.Image image mode=RGB size=41x41>"
      ]
     },
     "metadata": {},
     "output_type": "display_data"
    },
    {
     "name": "stdout",
     "output_type": "stream",
     "text": [
      "===============Index: 186===============\n",
      "Archivo: 2100100011X\n",
      "Partido: juntos\n",
      "Tipo: senadores\n",
      "\n",
      "\n",
      "Proporcion blanco: 0.8939137847955817\n"
     ]
    },
    {
     "data": {
      "image/png": "[encoded data removed]",
      "text/plain": [
       "<PIL.Image.Image image mode=RGB size=46x46>"
      ]
     },
     "metadata": {},
     "output_type": "display_data"
    },
    {
     "name": "stdout",
     "output_type": "stream",
     "text": [
      "Proporcion blanco: 0.886594637855142\n"
     ]
    },
    {
     "data": {
      "image/png": "[encoded data removed]",
      "text/plain": [
       "<PIL.Image.Image image mode=RGB size=42x42>"
      ]
     },
     "metadata": {},
     "output_type": "display_data"
    },
    {
     "name": "stdout",
     "output_type": "stream",
     "text": [
      "Proporcion blanco: 0.8755438112745098\n"
     ]
    },
    {
     "data": {
      "image/png": "[encoded data removed]",
      "text/plain": [
       "<PIL.Image.Image image mode=RGB size=32x32>"
      ]
     },
     "metadata": {},
     "output_type": "display_data"
    },
    {
     "name": "stdout",
     "output_type": "stream",
     "text": [
      "Proporcion blanco: 0.9272929723538956\n"
     ]
    },
    {
     "data": {
      "image/png": "[encoded data removed]",
      "text/plain": [
       "<PIL.Image.Image image mode=RGB size=43x43>"
      ]
     },
     "metadata": {},
     "output_type": "display_data"
    },
    {
     "name": "stdout",
     "output_type": "stream",
     "text": [
      "===============Index: 187===============\n",
      "Archivo: 2100100011X\n",
      "Partido: juntos\n",
      "Tipo: diputados\n",
      "\n",
      "\n",
      "Proporcion blanco: 0.9107509077705156\n"
     ]
    },
    {
     "data": {
      "image/png": "[encoded data removed]",
      "text/plain": [
       "<PIL.Image.Image image mode=RGB size=45x45>"
      ]
     },
     "metadata": {},
     "output_type": "display_data"
    },
    {
     "name": "stdout",
     "output_type": "stream",
     "text": [
      "Proporcion blanco: 0.8663540609581132\n"
     ]
    },
    {
     "data": {
      "image/png": "[encoded data removed]",
      "text/plain": [
       "<PIL.Image.Image image mode=RGB size=41x41>"
      ]
     },
     "metadata": {},
     "output_type": "display_data"
    },
    {
     "name": "stdout",
     "output_type": "stream",
     "text": [
      "Proporcion blanco: 0.8578736383442266\n"
     ]
    },
    {
     "data": {
      "image/png": "[encoded data removed]",
      "text/plain": [
       "<PIL.Image.Image image mode=RGB size=30x30>"
      ]
     },
     "metadata": {},
     "output_type": "display_data"
    },
    {
     "name": "stdout",
     "output_type": "stream",
     "text": [
      "Proporcion blanco: 0.9160882081364402\n"
     ]
    },
    {
     "data": {
      "image/png": "[encoded data removed]",
      "text/plain": [
       "<PIL.Image.Image image mode=RGB size=38x38>"
      ]
     },
     "metadata": {},
     "output_type": "display_data"
    },
    {
     "name": "stdout",
     "output_type": "stream",
     "text": [
      "===============Index: 749===============\n",
      "Archivo: 2100100042X\n",
      "Partido: somos futuro\n",
      "Tipo: diputados\n",
      "\n",
      "\n",
      "Proporcion blanco: 0.8903381796201444\n"
     ]
    },
    {
     "data": {
      "image/png": "[encoded data removed]",
      "text/plain": [
       "<PIL.Image.Image image mode=RGB size=43x43>"
      ]
     },
     "metadata": {},
     "output_type": "display_data"
    },
    {
     "name": "stdout",
     "output_type": "stream",
     "text": [
      "Proporcion blanco: 0.8648576678294677\n"
     ]
    },
    {
     "data": {
      "image/png": "[encoded data removed]",
      "text/plain": [
       "<PIL.Image.Image image mode=RGB size=47x47>"
      ]
     },
     "metadata": {},
     "output_type": "display_data"
    },
    {
     "name": "stdout",
     "output_type": "stream",
     "text": [
      "Proporcion blanco: 0.8073428131583211\n"
     ]
    },
    {
     "data": {
      "image/png": "[encoded data removed]",
      "text/plain": [
       "<PIL.Image.Image image mode=RGB size=44x44>"
      ]
     },
     "metadata": {},
     "output_type": "display_data"
    },
    {
     "name": "stdout",
     "output_type": "stream",
     "text": [
      "Proporcion blanco: 0.8493886443466275\n"
     ]
    },
    {
     "data": {
      "image/png": "[encoded data removed]",
      "text/plain": [
       "<PIL.Image.Image image mode=RGB size=63x63>"
      ]
     },
     "metadata": {},
     "output_type": "display_data"
    },
    {
     "name": "stdout",
     "output_type": "stream",
     "text": [
      "===============Index: 872===============\n",
      "Archivo: 2100100049X\n",
      "Partido: primero santa fe\n",
      "Tipo: senadores\n",
      "\n",
      "\n",
      "Proporcion blanco: 0.9258430015604858\n"
     ]
    },
    {
     "data": {
      "image/png": "[encoded data removed]",
      "text/plain": [
       "<PIL.Image.Image image mode=RGB size=34x34>"
      ]
     },
     "metadata": {},
     "output_type": "display_data"
    },
    {
     "name": "stdout",
     "output_type": "stream",
     "text": [
      "Proporcion blanco: 0.9426713725490196\n"
     ]
    },
    {
     "data": {
      "image/png": "[encoded data removed]",
      "text/plain": [
       "<PIL.Image.Image image mode=RGB size=50x50>"
      ]
     },
     "metadata": {},
     "output_type": "display_data"
    },
    {
     "name": "stdout",
     "output_type": "stream",
     "text": [
      "Proporcion blanco: 0.8910974720466699\n"
     ]
    },
    {
     "data": {
      "image/png": "[encoded data removed]",
      "text/plain": [
       "<PIL.Image.Image image mode=RGB size=44x44>"
      ]
     },
     "metadata": {},
     "output_type": "display_data"
    },
    {
     "name": "stdout",
     "output_type": "stream",
     "text": [
      "Proporcion blanco: 0.9436810103854237\n"
     ]
    },
    {
     "data": {
      "image/png": "[encoded data removed]",
      "text/plain": [
       "<PIL.Image.Image image mode=RGB size=62x62>"
      ]
     },
     "metadata": {},
     "output_type": "display_data"
    },
    {
     "name": "stdout",
     "output_type": "stream",
     "text": [
      "===============Index: 2354===============\n",
      "Archivo: 2100200134X\n",
      "Partido: soberania popular\n",
      "Tipo: senadores\n",
      "\n",
      "\n",
      "Proporcion blanco: 0.8015315001740341\n"
     ]
    },
    {
     "data": {
      "image/png": "[encoded data removed]",
      "text/plain": [
       "<PIL.Image.Image image mode=RGB size=39x39>"
      ]
     },
     "metadata": {},
     "output_type": "display_data"
    },
    {
     "name": "stdout",
     "output_type": "stream",
     "text": [
      "Proporcion blanco: 0.8191179121729817\n"
     ]
    },
    {
     "data": {
      "image/png": "[encoded data removed]",
      "text/plain": [
       "<PIL.Image.Image image mode=RGB size=43x43>"
      ]
     },
     "metadata": {},
     "output_type": "display_data"
    },
    {
     "name": "stdout",
     "output_type": "stream",
     "text": [
      "Proporcion blanco: 0.9044630096936734\n"
     ]
    },
    {
     "data": {
      "image/png": "[encoded data removed]",
      "text/plain": [
       "<PIL.Image.Image image mode=RGB size=49x49>"
      ]
     },
     "metadata": {},
     "output_type": "display_data"
    },
    {
     "name": "stdout",
     "output_type": "stream",
     "text": [
      "Proporcion blanco: 0.8638985005767013\n"
     ]
    },
    {
     "data": {
      "image/png": "[encoded data removed]",
      "text/plain": [
       "<PIL.Image.Image image mode=RGB size=51x51>"
      ]
     },
     "metadata": {},
     "output_type": "display_data"
    },
    {
     "name": "stdout",
     "output_type": "stream",
     "text": [
      "===============Index: 2830===============\n",
      "Archivo: 2100200162X\n",
      "Partido: fit\n",
      "Tipo: senadores\n",
      "\n",
      "\n",
      "Proporcion blanco: 0.86902599881057\n"
     ]
    },
    {
     "data": {
      "image/png": "[encoded data removed]",
      "text/plain": [
       "<PIL.Image.Image image mode=RGB size=47x47>"
      ]
     },
     "metadata": {},
     "output_type": "display_data"
    },
    {
     "name": "stdout",
     "output_type": "stream",
     "text": [
      "Proporcion blanco: 0.8310734681775406\n"
     ]
    },
    {
     "data": {
      "image/png": "[encoded data removed]",
      "text/plain": [
       "<PIL.Image.Image image mode=RGB size=39x39>"
      ]
     },
     "metadata": {},
     "output_type": "display_data"
    },
    {
     "name": "stdout",
     "output_type": "stream",
     "text": [
      "Proporcion blanco: 0.7599466251528967\n"
     ]
    },
    {
     "data": {
      "image/png": "[encoded data removed]",
      "text/plain": [
       "<PIL.Image.Image image mode=RGB size=23x23>"
      ]
     },
     "metadata": {},
     "output_type": "display_data"
    },
    {
     "name": "stdout",
     "output_type": "stream",
     "text": [
      "Proporcion blanco: 0.8495824255628177\n"
     ]
    },
    {
     "data": {
      "image/png": "[encoded data removed]",
      "text/plain": [
       "<PIL.Image.Image image mode=RGB size=36x36>"
      ]
     },
     "metadata": {},
     "output_type": "display_data"
    },
    {
     "name": "stdout",
     "output_type": "stream",
     "text": [
      "===============Index: 3746===============\n",
      "Archivo: 2100200215X\n",
      "Partido: frente amplio progresista\n",
      "Tipo: senadores\n",
      "\n",
      "\n",
      "Proporcion blanco: 0.949343487394958\n"
     ]
    },
    {
     "data": {
      "image/png": "[encoded data removed]",
      "text/plain": [
       "<PIL.Image.Image image mode=RGB size=56x56>"
      ]
     },
     "metadata": {},
     "output_type": "display_data"
    },
    {
     "name": "stdout",
     "output_type": "stream",
     "text": [
      "Proporcion blanco: 0.9291038489469862\n"
     ]
    },
    {
     "data": {
      "image/png": "[encoded data removed]",
      "text/plain": [
       "<PIL.Image.Image image mode=RGB size=45x45>"
      ]
     },
     "metadata": {},
     "output_type": "display_data"
    },
    {
     "name": "stdout",
     "output_type": "stream",
     "text": [
      "Proporcion blanco: 0.937334247828075\n"
     ]
    },
    {
     "data": {
      "image/png": "[encoded data removed]",
      "text/plain": [
       "<PIL.Image.Image image mode=RGB size=54x54>"
      ]
     },
     "metadata": {},
     "output_type": "display_data"
    },
    {
     "name": "stdout",
     "output_type": "stream",
     "text": [
      "Proporcion blanco: 0.9233149145508381\n"
     ]
    },
    {
     "data": {
      "image/png": "[encoded data removed]",
      "text/plain": [
       "<PIL.Image.Image image mode=RGB size=58x58>"
      ]
     },
     "metadata": {},
     "output_type": "display_data"
    },
    {
     "name": "stdout",
     "output_type": "stream",
     "text": [
      "===============Index: 3756===============\n",
      "Archivo: 2100200215X\n",
      "Partido: podemos\n",
      "Tipo: senadores\n",
      "\n",
      "\n",
      "Proporcion blanco: 0.9341755109640643\n"
     ]
    },
    {
     "data": {
      "image/png": "[encoded data removed]",
      "text/plain": [
       "<PIL.Image.Image image mode=RGB size=37x37>"
      ]
     },
     "metadata": {},
     "output_type": "display_data"
    },
    {
     "name": "stdout",
     "output_type": "stream",
     "text": [
      "Proporcion blanco: 0.9172655531348342\n"
     ]
    },
    {
     "data": {
      "image/png": "[encoded data removed]",
      "text/plain": [
       "<PIL.Image.Image image mode=RGB size=45x45>"
      ]
     },
     "metadata": {},
     "output_type": "display_data"
    },
    {
     "name": "stdout",
     "output_type": "stream",
     "text": [
      "Proporcion blanco: 0.8803373342198272\n"
     ]
    },
    {
     "data": {
      "image/png": "[encoded data removed]",
      "text/plain": [
       "<PIL.Image.Image image mode=RGB size=41x41>"
      ]
     },
     "metadata": {},
     "output_type": "display_data"
    },
    {
     "name": "stdout",
     "output_type": "stream",
     "text": [
      "Proporcion blanco: 0.9181082492168465\n"
     ]
    },
    {
     "data": {
      "image/png": "[encoded data removed]",
      "text/plain": [
       "<PIL.Image.Image image mode=RGB size=52x52>"
      ]
     },
     "metadata": {},
     "output_type": "display_data"
    }
   ],
   "source": [
    "plot_digitos(df, df_cant_sospechoso.head(10).index.values)"
   ]
  },
  {
   "cell_type": "markdown",
   "id": "e8fe0ae0",
   "metadata": {},
   "source": [
    "La mayoria escribio el numero en letras.\n",
    "\n",
    "Otros tienen errores de tipeo.\n",
    "\n",
    "Vamos a eliminarlos."
   ]
  },
  {
   "cell_type": "code",
   "execution_count": 44,
   "id": "7a927bac",
   "metadata": {},
   "outputs": [],
   "source": [
    "df = df[~df.id_telegrama.isin(df_cant_sospechoso.id_telegrama.unique())].copy()"
   ]
  },
  {
   "cell_type": "markdown",
   "id": "b65eec35",
   "metadata": {},
   "source": [
    "Recapitulando, ahora parecen mas normales las 4 variables referidas a los digitos."
   ]
  },
  {
   "cell_type": "code",
   "execution_count": 45,
   "id": "a94cbed6",
   "metadata": {
    "scrolled": true
   },
   "outputs": [
    {
     "data": {
      "image/png": "[encoded data removed]",
      "text/plain": [
       "<Figure size 1080x360 with 2 Axes>"
      ]
     },
     "metadata": {
      "needs_background": "light"
     },
     "output_type": "display_data"
    }
   ],
   "source": [
    "plot_dos_histogramas(df, 'min_size_digitos', 'max_size_digitos')"
   ]
  },
  {
   "cell_type": "code",
   "execution_count": 46,
   "id": "4a96365a",
   "metadata": {},
   "outputs": [
    {
     "data": {
      "image/png": "[encoded data removed]",
      "text/plain": [
       "<Figure size 1080x360 with 2 Axes>"
      ]
     },
     "metadata": {
      "needs_background": "light"
     },
     "output_type": "display_data"
    }
   ],
   "source": [
    "plot_dos_histogramas(df, 'min_prop_blanco_digitos', 'max_prop_blanco_digitos')"
   ]
  },
  {
   "cell_type": "code",
   "execution_count": 47,
   "id": "d09f33b2",
   "metadata": {},
   "outputs": [],
   "source": [
    "id_telegramas_completos = (\n",
    "    df\n",
    "    .groupby(['id_telegrama'])\n",
    "    .partido.count()\n",
    "    .reset_index()\n",
    "    .query(\"partido == 18\")\n",
    "    .id_telegrama\n",
    ")\n",
    "\n",
    "df_completos = df[df.id_telegrama.isin(id_telegramas_completos.values)]"
   ]
  },
  {
   "cell_type": "code",
   "execution_count": 48,
   "id": "5274d86e",
   "metadata": {
    "scrolled": true
   },
   "outputs": [
    {
     "data": {
      "text/plain": [
       "0.810942843185149"
      ]
     },
     "execution_count": 48,
     "metadata": {},
     "output_type": "execute_result"
    }
   ],
   "source": [
    "df_completos.id_telegrama.unique().shape[0] / 8188"
   ]
  },
  {
   "cell_type": "markdown",
   "id": "9fa4e8a8",
   "metadata": {},
   "source": [
    "A priori, 81% de los telegramas tienen todos los registros leidos.\n",
    "\n",
    "Sin embargo, tenemos el 97% de los telegramas que leimos \"bien\" al menos un registro"
   ]
  },
  {
   "cell_type": "code",
   "execution_count": 49,
   "id": "cbebc482",
   "metadata": {},
   "outputs": [],
   "source": [
    "def escalar_digitos(digitos):\n",
    "    digitos_ = []\n",
    "    for digito in digitos:\n",
    "        digito_escalado = cv2.resize(digito, (28, 28), interpolation=cv2.INTER_AREA)\n",
    "        digito_escalado = 255 - digito_escalado\n",
    "        digitos_.append(digito_escalado)\n",
    "    return np.array(digitos_)"
   ]
  },
  {
   "cell_type": "code",
   "execution_count": 50,
   "id": "e99b9bf5",
   "metadata": {},
   "outputs": [],
   "source": [
    "df['digitos_escalados'] = df.digitos.apply(escalar_digitos)"
   ]
  },
  {
   "cell_type": "code",
   "execution_count": 51,
   "id": "bb021fd9",
   "metadata": {
    "scrolled": true
   },
   "outputs": [],
   "source": [
    "digitos_row = df.digitos_escalados.values\n",
    "digitos = []\n",
    "\n",
    "for digito_row in digitos_row:\n",
    "    for digito in digito_row:\n",
    "        digitos.append(digito.reshape(len(digito), -1))\n",
    "    \n",
    "digitos = np.array(digitos, dtype=object)"
   ]
  },
  {
   "cell_type": "code",
   "execution_count": 52,
   "id": "7df6e702",
   "metadata": {},
   "outputs": [
    {
     "data": {
      "text/plain": [
       "array([[[0, 0, 0, ..., 0, 0, 0],\n",
       "        [0, 0, 6, ..., 0, 0, 0],\n",
       "        [0, 0, 26, ..., 0, 0, 0],\n",
       "        ...,\n",
       "        [0, 0, 0, ..., 0, 0, 0],\n",
       "        [0, 0, 0, ..., 0, 0, 0],\n",
       "        [0, 0, 0, ..., 1, 0, 0]],\n",
       "\n",
       "       [[0, 0, 0, ..., 6, 0, 0],\n",
       "        [0, 0, 0, ..., 71, 0, 0],\n",
       "        [0, 0, 0, ..., 128, 0, 0],\n",
       "        ...,\n",
       "        [0, 0, 0, ..., 70, 0, 0],\n",
       "        [0, 0, 0, ..., 0, 0, 0],\n",
       "        [0, 0, 0, ..., 0, 0, 0]],\n",
       "\n",
       "       [[0, 0, 0, ..., 0, 0, 0],\n",
       "        [0, 0, 0, ..., 0, 0, 0],\n",
       "        [0, 0, 0, ..., 0, 0, 0],\n",
       "        ...,\n",
       "        [0, 0, 0, ..., 0, 0, 0],\n",
       "        [0, 0, 0, ..., 0, 0, 0],\n",
       "        [0, 0, 0, ..., 0, 0, 0]],\n",
       "\n",
       "       ...,\n",
       "\n",
       "       [[0, 0, 0, ..., 0, 0, 0],\n",
       "        [0, 0, 0, ..., 0, 0, 0],\n",
       "        [0, 0, 0, ..., 0, 0, 0],\n",
       "        ...,\n",
       "        [0, 0, 0, ..., 0, 0, 0],\n",
       "        [0, 0, 0, ..., 0, 0, 0],\n",
       "        [0, 0, 0, ..., 0, 0, 0]],\n",
       "\n",
       "       [[0, 0, 0, ..., 0, 0, 0],\n",
       "        [0, 0, 0, ..., 0, 0, 0],\n",
       "        [0, 0, 0, ..., 0, 0, 0],\n",
       "        ...,\n",
       "        [0, 0, 0, ..., 0, 0, 0],\n",
       "        [0, 0, 0, ..., 0, 0, 0],\n",
       "        [0, 0, 0, ..., 0, 0, 0]],\n",
       "\n",
       "       [[0, 0, 0, ..., 0, 0, 0],\n",
       "        [0, 0, 0, ..., 0, 0, 0],\n",
       "        [0, 0, 0, ..., 0, 0, 0],\n",
       "        ...,\n",
       "        [0, 0, 0, ..., 0, 0, 0],\n",
       "        [0, 0, 0, ..., 0, 0, 0],\n",
       "        [0, 0, 0, ..., 0, 0, 0]]], dtype=object)"
      ]
     },
     "execution_count": 52,
     "metadata": {},
     "output_type": "execute_result"
    }
   ],
   "source": [
    "digitos"
   ]
  },
  {
   "cell_type": "code",
   "execution_count": null,
   "id": "153606a6",
   "metadata": {},
   "outputs": [],
   "source": []
  }
 ],
 "metadata": {
  "interpreter": {
   "hash": "3c3cf3c5f2348541057a361b67930d93065ce1f9f2f002f0d2c317eea043c0cc"
  },
  "kernelspec": {
   "display_name": "Python 3.9.12 ('medgc-tesis-v2')",
   "language": "python",
   "name": "python3"
  },
  "language_info": {
   "codemirror_mode": {
    "name": "ipython",
    "version": 3
   },
   "file_extension": ".py",
   "mimetype": "text/x-python",
   "name": "python",
   "nbconvert_exporter": "python",
   "pygments_lexer": "ipython3",
   "version": "3.9.12"
  }
 },
 "nbformat": 4,
 "nbformat_minor": 5
}
